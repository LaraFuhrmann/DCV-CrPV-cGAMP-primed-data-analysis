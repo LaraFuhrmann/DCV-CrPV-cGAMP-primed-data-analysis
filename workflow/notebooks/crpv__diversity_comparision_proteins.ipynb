{
 "cells": [
  {
   "cell_type": "code",
   "execution_count": 57,
   "id": "5fde0df3",
   "metadata": {},
   "outputs": [],
   "source": [
    "import pandas as pd\n",
    "import seaborn as sns\n",
    "import matplotlib.pyplot as plt"
   ]
  },
  {
   "cell_type": "code",
   "execution_count": 58,
   "id": "efd11f9b",
   "metadata": {},
   "outputs": [],
   "source": [
    "our_color_palette = {\"WT\": \"#F2C14E\", # yellow\n",
    "                     \"W\": \"#F2C14E\", # yellow\n",
    "                     \"IP\": \"#79ADDC\", # blue\n",
    "                     \"I\": \"#79ADDC\", # blue\n",
    "                     \"KO\": \"#B279A7\", # purple\n",
    "                     \"K\": \"#B279A7\", # purple\n",
    "                    } \n",
    "treatments_list = [\"W\", \"I\", \"K\"]\n",
    "passages_list = [\"p1\", \"p2\", \"p3\", \"p5\", \"p10\"]\n",
    "replicates_list = ['a', 'b', 'c']"
   ]
  },
  {
   "cell_type": "code",
   "execution_count": 59,
   "id": "240b59f1",
   "metadata": {},
   "outputs": [],
   "source": [
    "# define protein \n",
    "\n",
    "proteins = {\n",
    "    \"1A\": (709, 1206),\n",
    "    \"2A\": (1207, 1278),\n",
    "    \"2B\": (1279, 1692),\n",
    "    \"2C\": (1693, 2925),\n",
    "    \"3A\": (2926, 3361),\n",
    "    \"3B\": (3364, 3432),\n",
    "    \"3C\": (3433, 4368),\n",
    "    \"RdRp\": (4369, 6022),\n",
    "    \"VP1\": (6217, 7065),\n",
    "    \"VP4\": (7066, 7236),\n",
    "    \"VP2\": (7237, 8121),\n",
    "    \"VP3\": (8122, 8902),\n",
    "           }"
   ]
  },
  {
   "cell_type": "code",
   "execution_count": 60,
   "id": "e10d4132",
   "metadata": {},
   "outputs": [],
   "source": [
    "length_crpv = 9185"
   ]
  },
  {
   "cell_type": "code",
   "execution_count": 61,
   "id": "85e66fee",
   "metadata": {},
   "outputs": [],
   "source": [
    "# load diveristy \n",
    "\n",
    "fname = \"all_snpgenie_site_results.csv\"\n",
    "df = pd.read_csv(fname)"
   ]
  },
  {
   "cell_type": "code",
   "execution_count": 62,
   "id": "538f08cb",
   "metadata": {},
   "outputs": [],
   "source": [
    "df_pis_protein = pd.DataFrame() \n",
    "\n",
    "for virus in ['CrPV']:\n",
    "    for sample in df['passage'].unique():\n",
    "        for protein in proteins.items():\n",
    "            protein_id = protein[0]\n",
    "            protein_start = protein[1][0]\n",
    "            protein_end = protein[1][1]\n",
    "            protein_length = protein_end - protein_start\n",
    "\n",
    "            df_temp = df[df['virus']== virus]\n",
    "            df_temp = df_temp[df_temp['passage']==sample]\n",
    "            df_temp = df_temp[df_temp['site'].isin(list(range(protein_start,protein_end+1 )))]\n",
    "            avg_pi = df_temp['pi'].sum()/protein_length\n",
    "\n",
    "            mean_pis = {\n",
    "                        'virus': [virus], \n",
    "                        'sample': sample, \n",
    "                        'protein': protein_id,\n",
    "                        'avg_pi': avg_pi, \n",
    "                    }\n",
    "\n",
    "            df_pis_protein = pd.concat([pd.DataFrame(mean_pis),df_pis_protein], ignore_index=True)"
   ]
  },
  {
   "cell_type": "code",
   "execution_count": 63,
   "id": "9f843d4d",
   "metadata": {},
   "outputs": [
    {
     "data": {
      "text/html": [
       "<div>\n",
       "<style scoped>\n",
       "    .dataframe tbody tr th:only-of-type {\n",
       "        vertical-align: middle;\n",
       "    }\n",
       "\n",
       "    .dataframe tbody tr th {\n",
       "        vertical-align: top;\n",
       "    }\n",
       "\n",
       "    .dataframe thead th {\n",
       "        text-align: right;\n",
       "    }\n",
       "</style>\n",
       "<table border=\"1\" class=\"dataframe\">\n",
       "  <thead>\n",
       "    <tr style=\"text-align: right;\">\n",
       "      <th></th>\n",
       "      <th>virus</th>\n",
       "      <th>sample</th>\n",
       "      <th>protein</th>\n",
       "      <th>avg_pi</th>\n",
       "      <th>genotype</th>\n",
       "      <th>rep</th>\n",
       "      <th>passage</th>\n",
       "    </tr>\n",
       "  </thead>\n",
       "  <tbody>\n",
       "    <tr>\n",
       "      <th>0</th>\n",
       "      <td>CrPV</td>\n",
       "      <td>W_p10_c</td>\n",
       "      <td>VP3</td>\n",
       "      <td>0.000278</td>\n",
       "      <td>W</td>\n",
       "      <td>c</td>\n",
       "      <td>10</td>\n",
       "    </tr>\n",
       "    <tr>\n",
       "      <th>1</th>\n",
       "      <td>CrPV</td>\n",
       "      <td>W_p10_c</td>\n",
       "      <td>VP2</td>\n",
       "      <td>0.000316</td>\n",
       "      <td>W</td>\n",
       "      <td>c</td>\n",
       "      <td>10</td>\n",
       "    </tr>\n",
       "    <tr>\n",
       "      <th>2</th>\n",
       "      <td>CrPV</td>\n",
       "      <td>W_p10_c</td>\n",
       "      <td>VP4</td>\n",
       "      <td>0.000104</td>\n",
       "      <td>W</td>\n",
       "      <td>c</td>\n",
       "      <td>10</td>\n",
       "    </tr>\n",
       "    <tr>\n",
       "      <th>3</th>\n",
       "      <td>CrPV</td>\n",
       "      <td>W_p10_c</td>\n",
       "      <td>VP1</td>\n",
       "      <td>0.000114</td>\n",
       "      <td>W</td>\n",
       "      <td>c</td>\n",
       "      <td>10</td>\n",
       "    </tr>\n",
       "    <tr>\n",
       "      <th>4</th>\n",
       "      <td>CrPV</td>\n",
       "      <td>W_p10_c</td>\n",
       "      <td>RdRp</td>\n",
       "      <td>0.000195</td>\n",
       "      <td>W</td>\n",
       "      <td>c</td>\n",
       "      <td>10</td>\n",
       "    </tr>\n",
       "  </tbody>\n",
       "</table>\n",
       "</div>"
      ],
      "text/plain": [
       "  virus   sample protein    avg_pi genotype rep  passage\n",
       "0  CrPV  W_p10_c     VP3  0.000278        W   c       10\n",
       "1  CrPV  W_p10_c     VP2  0.000316        W   c       10\n",
       "2  CrPV  W_p10_c     VP4  0.000104        W   c       10\n",
       "3  CrPV  W_p10_c     VP1  0.000114        W   c       10\n",
       "4  CrPV  W_p10_c    RdRp  0.000195        W   c       10"
      ]
     },
     "execution_count": 63,
     "metadata": {},
     "output_type": "execute_result"
    }
   ],
   "source": [
    "df_pis_protein['genotype'] = df_pis_protein['sample'].str.split(\"_\").str[0]\n",
    "df_pis_protein['rep'] = df_pis_protein['sample'].str.split(\"_\").str[-1]\n",
    "df_pis_protein['passage'] = df_pis_protein['sample'].str.split(\"_\").str[1].str.split(\"p\").str[-1].astype(int)\n",
    "\n",
    "df_pis_protein.head()"
   ]
  },
  {
   "cell_type": "code",
   "execution_count": 64,
   "id": "026d7692",
   "metadata": {},
   "outputs": [
    {
     "data": {
      "text/plain": [
       "array(['W', 'I', 'K', 'parental'], dtype=object)"
      ]
     },
     "execution_count": 64,
     "metadata": {},
     "output_type": "execute_result"
    }
   ],
   "source": [
    "df_pis_protein['genotype'].unique()"
   ]
  },
  {
   "cell_type": "code",
   "execution_count": 65,
   "id": "9cf64f82",
   "metadata": {},
   "outputs": [],
   "source": [
    "df_pis_protein = df_pis_protein[df_pis_protein['genotype']!='parental']"
   ]
  },
  {
   "cell_type": "code",
   "execution_count": 66,
   "id": "503fa6e2",
   "metadata": {},
   "outputs": [],
   "source": [
    "df_pi_summary = df_pis_protein[\n",
    "    ['protein', 'avg_pi', 'genotype', 'passage', 'rep']\n",
    "].groupby(by=['genotype', 'rep', 'protein']).mean().reset_index()"
   ]
  },
  {
   "cell_type": "code",
   "execution_count": 67,
   "id": "560037e2",
   "metadata": {},
   "outputs": [
    {
     "name": "stderr",
     "output_type": "stream",
     "text": [
      "/var/folders/dw/8dl4p6h53cgcmk6cf_09v5f40000gr/T/ipykernel_81691/1048459402.py:5: FutureWarning: \n",
      "\n",
      "The `errwidth` parameter is deprecated. And will be removed in v0.15.0. Pass `err_kws={'linewidth': 1.1}` instead.\n",
      "\n",
      "  g = sns.catplot(df_pi_summary,\n"
     ]
    },
    {
     "data": {
      "image/png": "[encoded data removed]",
      "text/plain": [
       "<Figure size 1440x720 with 1 Axes>"
      ]
     },
     "metadata": {},
     "output_type": "display_data"
    }
   ],
   "source": [
    "sns.set_context(\"talk\") \n",
    "sns.set_style('white')\n",
    "\n",
    "\n",
    "g = sns.catplot(df_pi_summary, \n",
    "                y='avg_pi',\n",
    "                hue='genotype', \n",
    "                x='protein', \n",
    "                palette=our_color_palette, \n",
    "                errorbar=\"se\",\n",
    "                linestyle='',\n",
    "                errwidth=1.1, \n",
    "                dodge=0.2,\n",
    "                capsize=0.1,\n",
    "                kind='point')\n",
    "\n",
    "# If you need to adjust after creation, you can also use:\n",
    "g.fig.set_size_inches(20, 10)\n",
    "\n"
   ]
  },
  {
   "cell_type": "code",
   "execution_count": 68,
   "id": "06d5e548",
   "metadata": {},
   "outputs": [
    {
     "data": {
      "text/html": [
       "<div>\n",
       "<style scoped>\n",
       "    .dataframe tbody tr th:only-of-type {\n",
       "        vertical-align: middle;\n",
       "    }\n",
       "\n",
       "    .dataframe tbody tr th {\n",
       "        vertical-align: top;\n",
       "    }\n",
       "\n",
       "    .dataframe thead th {\n",
       "        text-align: right;\n",
       "    }\n",
       "</style>\n",
       "<table border=\"1\" class=\"dataframe\">\n",
       "  <thead>\n",
       "    <tr style=\"text-align: right;\">\n",
       "      <th></th>\n",
       "      <th>genotype</th>\n",
       "      <th>rep</th>\n",
       "      <th>protein</th>\n",
       "      <th>avg_pi</th>\n",
       "      <th>passage</th>\n",
       "    </tr>\n",
       "  </thead>\n",
       "  <tbody>\n",
       "    <tr>\n",
       "      <th>0</th>\n",
       "      <td>I</td>\n",
       "      <td>a</td>\n",
       "      <td>1A</td>\n",
       "      <td>0.000346</td>\n",
       "      <td>4.2</td>\n",
       "    </tr>\n",
       "    <tr>\n",
       "      <th>1</th>\n",
       "      <td>I</td>\n",
       "      <td>a</td>\n",
       "      <td>2A</td>\n",
       "      <td>0.000033</td>\n",
       "      <td>4.2</td>\n",
       "    </tr>\n",
       "    <tr>\n",
       "      <th>2</th>\n",
       "      <td>I</td>\n",
       "      <td>a</td>\n",
       "      <td>2B</td>\n",
       "      <td>0.000501</td>\n",
       "      <td>4.2</td>\n",
       "    </tr>\n",
       "    <tr>\n",
       "      <th>3</th>\n",
       "      <td>I</td>\n",
       "      <td>a</td>\n",
       "      <td>2C</td>\n",
       "      <td>0.000160</td>\n",
       "      <td>4.2</td>\n",
       "    </tr>\n",
       "    <tr>\n",
       "      <th>4</th>\n",
       "      <td>I</td>\n",
       "      <td>a</td>\n",
       "      <td>3A</td>\n",
       "      <td>0.000540</td>\n",
       "      <td>4.2</td>\n",
       "    </tr>\n",
       "    <tr>\n",
       "      <th>...</th>\n",
       "      <td>...</td>\n",
       "      <td>...</td>\n",
       "      <td>...</td>\n",
       "      <td>...</td>\n",
       "      <td>...</td>\n",
       "    </tr>\n",
       "    <tr>\n",
       "      <th>103</th>\n",
       "      <td>W</td>\n",
       "      <td>c</td>\n",
       "      <td>RdRp</td>\n",
       "      <td>0.000441</td>\n",
       "      <td>4.2</td>\n",
       "    </tr>\n",
       "    <tr>\n",
       "      <th>104</th>\n",
       "      <td>W</td>\n",
       "      <td>c</td>\n",
       "      <td>VP1</td>\n",
       "      <td>0.000054</td>\n",
       "      <td>4.2</td>\n",
       "    </tr>\n",
       "    <tr>\n",
       "      <th>105</th>\n",
       "      <td>W</td>\n",
       "      <td>c</td>\n",
       "      <td>VP2</td>\n",
       "      <td>0.000113</td>\n",
       "      <td>4.2</td>\n",
       "    </tr>\n",
       "    <tr>\n",
       "      <th>106</th>\n",
       "      <td>W</td>\n",
       "      <td>c</td>\n",
       "      <td>VP3</td>\n",
       "      <td>0.000281</td>\n",
       "      <td>4.2</td>\n",
       "    </tr>\n",
       "    <tr>\n",
       "      <th>107</th>\n",
       "      <td>W</td>\n",
       "      <td>c</td>\n",
       "      <td>VP4</td>\n",
       "      <td>0.000091</td>\n",
       "      <td>4.2</td>\n",
       "    </tr>\n",
       "  </tbody>\n",
       "</table>\n",
       "<p>108 rows × 5 columns</p>\n",
       "</div>"
      ],
      "text/plain": [
       "    genotype rep protein    avg_pi  passage\n",
       "0          I   a      1A  0.000346      4.2\n",
       "1          I   a      2A  0.000033      4.2\n",
       "2          I   a      2B  0.000501      4.2\n",
       "3          I   a      2C  0.000160      4.2\n",
       "4          I   a      3A  0.000540      4.2\n",
       "..       ...  ..     ...       ...      ...\n",
       "103        W   c    RdRp  0.000441      4.2\n",
       "104        W   c     VP1  0.000054      4.2\n",
       "105        W   c     VP2  0.000113      4.2\n",
       "106        W   c     VP3  0.000281      4.2\n",
       "107        W   c     VP4  0.000091      4.2\n",
       "\n",
       "[108 rows x 5 columns]"
      ]
     },
     "execution_count": 68,
     "metadata": {},
     "output_type": "execute_result"
    }
   ],
   "source": [
    "df_pi_summary"
   ]
  },
  {
   "cell_type": "code",
   "execution_count": 69,
   "id": "6829e0e2",
   "metadata": {},
   "outputs": [
    {
     "name": "stdout",
     "output_type": "stream",
     "text": [
      "The rpy2.ipython extension is already loaded. To reload it, use:\n",
      "  %reload_ext rpy2.ipython\n"
     ]
    }
   ],
   "source": [
    "%load_ext rpy2.ipython"
   ]
  },
  {
   "cell_type": "code",
   "execution_count": 27,
   "id": "4b1f7821",
   "metadata": {},
   "outputs": [
    {
     "name": "stderr",
     "output_type": "stream",
     "text": [
      "/Users/lfuhrmann/Library/Python/3.9/lib/python/site-packages/rpy2/robjects/pandas2ri.py:54: FutureWarning: iteritems is deprecated and will be removed in a future version. Use .items instead.\n",
      "  for name, values in obj.iteritems():\n",
      "R[write to console]: Warnung:\n",
      "R[write to console]:  The 'wid' column contains duplicate ids across between-subjects variables. Automatic unique id will be created\n",
      "\n"
     ]
    },
    {
     "name": "stdout",
     "output_type": "stream",
     "text": [
      "ANOVA Table (type II tests)\n",
      "\n",
      "            Effect DFn DFd      F        p p<.05   ges\n",
      "1         genotype   2   6  1.594 2.79e-01       0.051\n",
      "2          protein  11  66 12.394 2.96e-12     * 0.650\n",
      "3 genotype:protein  22  66  0.831 6.77e-01       0.199\n"
     ]
    }
   ],
   "source": [
    "%%R -i df_pi_summary \n",
    "\n",
    "library(rstatix)\n",
    "\n",
    "# Two-way mixed ANOVA test\n",
    "res.aov <- anova_test(\n",
    "  data = df_pi_summary, \n",
    "    dv = avg_pi, \n",
    "    wid = rep,\n",
    "    between = genotype, \n",
    "    within = protein\n",
    "  )\n",
    "get_anova_table(res.aov)"
   ]
  },
  {
   "cell_type": "code",
   "execution_count": 28,
   "id": "dd5fe86a",
   "metadata": {},
   "outputs": [
    {
     "data": {
      "image/png": "[encoded data removed]"
     },
     "metadata": {},
     "output_type": "display_data"
    }
   ],
   "source": [
    "%%R\n",
    "\n",
    "ggqqplot(df_pi_summary, \"avg_pi\")+\n",
    "  facet_grid (genotype~protein)"
   ]
  },
  {
   "cell_type": "code",
   "execution_count": 70,
   "id": "79854657",
   "metadata": {},
   "outputs": [
    {
     "name": "stdout",
     "output_type": "stream",
     "text": [
      "# A tibble: 3 × 5\n",
      "  genotype   df1   df2 statistic     p\n",
      "  <chr>    <int> <int>     <dbl> <dbl>\n",
      "1 I           11    24     0.623 0.791\n",
      "2 K           11    24     0.616 0.798\n",
      "3 W           11    24     0.642 0.776\n"
     ]
    }
   ],
   "source": [
    "%%R \n",
    "\n",
    "library(rstatix)\n",
    "library(dplyr)\n",
    "df_pi_summary %>%\n",
    "  group_by(genotype) %>%\n",
    "  levene_test(avg_pi~protein)"
   ]
  },
  {
   "cell_type": "code",
   "execution_count": 71,
   "id": "c3f9a08c",
   "metadata": {},
   "outputs": [
    {
     "name": "stdout",
     "output_type": "stream",
     "text": [
      "`summarise()` has grouped output by 'genotype'. You can override using the\n",
      "`.groups` argument.\n",
      "   genotype protein  var(avg_pi)\n",
      "1         I      1A 2.984829e-09\n",
      "2         I      2A 6.011268e-10\n",
      "3         I      2B 1.023746e-08\n",
      "4         I      2C 2.444831e-09\n",
      "5         I      3A 4.367513e-08\n",
      "6         I      3B 1.782972e-08\n",
      "7         I      3C 1.378234e-09\n",
      "8         I    RdRp 5.477749e-09\n",
      "9         I     VP1 2.389320e-09\n",
      "10        I     VP2 1.630224e-08\n",
      "11        I     VP3 7.038874e-09\n",
      "12        I     VP4 2.577105e-08\n",
      "13        K      1A 8.277706e-10\n",
      "14        K      2A 2.609609e-09\n",
      "15        K      2B 1.417125e-09\n",
      "16        K      2C 1.942468e-09\n",
      "17        K      3A 1.902455e-09\n",
      "18        K      3B 8.375477e-10\n",
      "19        K      3C 5.275568e-09\n",
      "20        K    RdRp 1.255110e-08\n",
      "21        K     VP1 2.499956e-11\n",
      "22        K     VP2 3.768848e-09\n",
      "23        K     VP3 1.348821e-09\n",
      "24        K     VP4 6.627777e-08\n",
      "25        W      1A 5.112888e-08\n",
      "26        W      2A 4.050564e-10\n",
      "27        W      2B 6.303905e-08\n",
      "28        W      2C 4.309693e-09\n",
      "29        W      3A 9.860118e-10\n",
      "30        W      3B 1.623974e-08\n",
      "31        W      3C 5.138810e-09\n",
      "32        W    RdRp 7.853472e-09\n",
      "33        W     VP1 2.393347e-10\n",
      "34        W     VP2 1.526844e-09\n",
      "35        W     VP3 1.190093e-09\n",
      "36        W     VP4 2.570462e-08\n"
     ]
    }
   ],
   "source": [
    "%%R \n",
    "\n",
    "df_pi_summary %>%\n",
    "  group_by(genotype, protein) %>%\n",
    "  summarise(var(avg_pi)) %>%\n",
    "  as.data.frame()"
   ]
  },
  {
   "cell_type": "code",
   "execution_count": 72,
   "id": "40f11508",
   "metadata": {},
   "outputs": [
    {
     "name": "stdout",
     "output_type": "stream",
     "text": [
      "# A tibble: 1 × 4\n",
      "  statistic p.value parameter method                                            \n",
      "      <dbl>   <dbl>     <dbl> <chr>                                             \n",
      "1      1.45   0.485         2 Box's M-test for Homogeneity of Covariance Matric…\n"
     ]
    }
   ],
   "source": [
    "%%R \n",
    "\n",
    "box_m(df_pi_summary[ \"avg_pi\"], df_pi_summary$genotype)"
   ]
  },
  {
   "cell_type": "code",
   "execution_count": 73,
   "id": "41b3941d",
   "metadata": {},
   "outputs": [
    {
     "name": "stdout",
     "output_type": "stream",
     "text": [
      "\n",
      "Error: rep\n",
      "          Df    Sum Sq   Mean Sq F value Pr(>F)\n",
      "Residuals  2 2.022e-08 1.011e-08               \n",
      "\n",
      "Error: rep:protein\n",
      "          Df    Sum Sq   Mean Sq F value   Pr(>F)    \n",
      "protein   11 1.531e-06 1.392e-07   19.45 7.71e-09 ***\n",
      "Residuals 22 1.575e-07 7.160e-09                     \n",
      "---\n",
      "Signif. codes:  0 ‘***’ 0.001 ‘**’ 0.01 ‘*’ 0.05 ‘.’ 0.1 ‘ ’ 1\n",
      "\n",
      "Error: Within\n",
      "                 Df    Sum Sq   Mean Sq F value Pr(>F)\n",
      "genotype          2 4.460e-08 2.231e-08   1.654  0.202\n",
      "genotype:protein 22 2.055e-07 9.340e-09   0.692  0.825\n",
      "Residuals        48 6.476e-07 1.349e-08               \n"
     ]
    }
   ],
   "source": [
    "%%R\n",
    "\n",
    "model <- aov(avg_pi ~ genotype * protein + Error(rep/protein), data = df_pi_summary)\n",
    "\n",
    "summary(model)\n"
   ]
  },
  {
   "cell_type": "code",
   "execution_count": 79,
   "id": "d39aefcd",
   "metadata": {},
   "outputs": [
    {
     "name": "stderr",
     "output_type": "stream",
     "text": [
      "R[write to console]: Note: re-fitting model with sum-to-zero contrasts\n",
      "\n",
      "R[write to console]: NOTE: Results may be misleading due to involvement in interactions\n",
      "\n"
     ]
    },
    {
     "name": "stdout",
     "output_type": "stream",
     "text": [
      " contrast        estimate           SE df t.ratio p.value\n",
      " 2A - 2B    -0.0004085927 3.988628e-05 22 -10.244  <.0001\n",
      " 2B - VP1    0.0004069651 3.988628e-05 22  10.203  <.0001\n",
      " 2B - 3B     0.0003580482 3.988628e-05 22   8.977  <.0001\n",
      " 2B - 2C     0.0003424794 3.988628e-05 22   8.586  <.0001\n",
      " 2B - VP2    0.0003389215 3.988628e-05 22   8.497  <.0001\n",
      " 2A - RdRp  -0.0003128007 3.988628e-05 22  -7.842  <.0001\n",
      " RdRp - VP1  0.0003111730 3.988628e-05 22   7.802  <.0001\n",
      " 2B - 3A     0.0002661562 3.988628e-05 22   6.673  0.0001\n",
      " 3B - RdRp  -0.0002622561 3.988628e-05 22  -6.575  0.0001\n",
      " 2B - 3C     0.0002531531 3.988628e-05 22   6.347  0.0001\n",
      " 2C - RdRp  -0.0002466874 3.988628e-05 22  -6.185  0.0002\n",
      " RdRp - VP2  0.0002431295 3.988628e-05 22   6.096  0.0002\n",
      " 2B - VP4    0.0002297681 3.988628e-05 22   5.761  0.0004\n",
      " 1A - 2A     0.0002238259 3.988628e-05 22   5.612  0.0006\n",
      " 1A - VP1    0.0002221982 3.988628e-05 22   5.571  0.0006\n",
      " 2B - VP3    0.0002083594 3.988628e-05 22   5.224  0.0014\n",
      " 2A - VP3   -0.0002002333 3.988628e-05 22  -5.020  0.0023\n",
      " VP1 - VP3  -0.0001986056 3.988628e-05 22  -4.979  0.0025\n",
      " 1A - 2B    -0.0001847668 3.988628e-05 22  -4.632  0.0056\n",
      " 2A - VP4   -0.0001788247 3.988628e-05 22  -4.483  0.0078\n",
      " VP1 - VP4  -0.0001771970 3.988628e-05 22  -4.443  0.0086\n",
      " 1A - 3B     0.0001732813 3.988628e-05 22   4.344  0.0107\n",
      " 3A - RdRp  -0.0001703642 3.988628e-05 22  -4.271  0.0126\n",
      " 1A - 2C     0.0001577126 3.988628e-05 22   3.954  0.0254\n",
      " 3C - RdRp  -0.0001573611 3.988628e-05 22  -3.945  0.0259\n",
      " 2A - 3C    -0.0001554396 3.988628e-05 22  -3.897  0.0288\n",
      " 1A - VP2    0.0001541547 3.988628e-05 22   3.865  0.0308\n",
      " 3C - VP1    0.0001538119 3.988628e-05 22   3.856  0.0314\n",
      " 3B - VP3   -0.0001496887 3.988628e-05 22  -3.753  0.0392\n",
      "\n",
      "Results are averaged over the levels of: genotype \n",
      "P value adjustment: tukey method for comparing a family of 12 estimates \n"
     ]
    }
   ],
   "source": [
    "%%R \n",
    "\n",
    "library(emmeans)\n",
    "\n",
    "# Assuming your contrasts are stored in a data frame called 'contrasts'\n",
    "# If not, first convert the emmeans output to a data frame\n",
    "contrasts_df <- as.data.frame(pairs(emmeans(model, ~ protein, adjust = \"bonferroni\")))\n",
    "\n",
    "# Filter significant contrasts\n",
    "significant_contrasts <- contrasts_df[contrasts_df$p.value < 0.05, ]\n",
    "\n",
    "# Sort by p-value\n",
    "significant_contrasts <- significant_contrasts[order(significant_contrasts$p.value), ]\n",
    "\n",
    "# Display results\n",
    "print(significant_contrasts)"
   ]
  },
  {
   "cell_type": "code",
   "execution_count": null,
   "id": "ac635a23",
   "metadata": {},
   "outputs": [],
   "source": []
  }
 ],
 "metadata": {
  "kernelspec": {
   "display_name": "Python 3 (ipykernel)",
   "language": "python",
   "name": "python3"
  },
  "language_info": {
   "codemirror_mode": {
    "name": "ipython",
    "version": 3
   },
   "file_extension": ".py",
   "mimetype": "text/x-python",
   "name": "python",
   "nbconvert_exporter": "python",
   "pygments_lexer": "ipython3",
   "version": "3.9.0"
  }
 },
 "nbformat": 4,
 "nbformat_minor": 5
}
