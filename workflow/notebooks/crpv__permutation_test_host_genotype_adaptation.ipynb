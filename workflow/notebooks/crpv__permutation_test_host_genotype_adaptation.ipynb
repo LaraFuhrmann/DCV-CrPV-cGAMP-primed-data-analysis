{
 "cells": [
  {
   "cell_type": "code",
   "execution_count": 230,
   "id": "a15a4344",
   "metadata": {},
   "outputs": [],
   "source": [
    "import pandas as pd\n",
    "from matplotlib import pyplot as plt\n",
    "import numpy as np\n",
    "from tqdm import tqdm # for progress bar"
   ]
  },
  {
   "cell_type": "markdown",
   "id": "2743e92d",
   "metadata": {},
   "source": [
    "Randomization test is adapted from: https://journals.plos.org/plosbiology/article?id=10.1371/journal.pbio.3001010"
   ]
  },
  {
   "cell_type": "code",
   "execution_count": 263,
   "id": "d33c488d",
   "metadata": {},
   "outputs": [],
   "source": [
    "# import mutations\n",
    "fname = \"all_mutations.annotated.filtered.csv\"\n",
    "df = pd.read_csv(fname)\n",
    "\n",
    "df['genotype'] = df['file'].str.split(\"/\").str[2].str.split(\"_\").str[0]\n",
    "df['rep'] = df['file'].str.split(\"/\").str[2].str.split(\"_\").str[2]\n",
    "df['passage'] = df['file'].str.split(\"/\").str[2].str.split(\"_\").str[1]\n",
    "df['n_var'] = df['Rvar'] + df['Fvar']\n",
    "df['n_tot'] = df['Rtot'] + df['Ftot']\n",
    "df['frequency'] = df['n_var'] / df['n_tot']\n",
    "df['position'] = df['POS'] \n",
    "df['mutation'] = df['REF'] + df['POS'].astype(str) + df['ALT']\n",
    "\n",
    "df['mutation_id'] = df['position'].astype('str')+df['ALT']\n",
    "df['line_id'] = df['genotype']+'_'+df['rep']\n",
    "\n",
    "# crpv\n",
    "df = df[df['virus']=='crpv']"
   ]
  },
  {
   "cell_type": "markdown",
   "id": "f537cf62",
   "metadata": {},
   "source": [
    "## Prepare data (exclude mutations that already occurr in parental stock) "
   ]
  },
  {
   "cell_type": "code",
   "execution_count": 264,
   "id": "72b2a626",
   "metadata": {},
   "outputs": [],
   "source": [
    "parental_mutations = df[df['genotype']=='parental']['mutation_id'].unique()\n",
    "\n",
    "df = df[\n",
    "    (df['genotype']!='parental') #& \n",
    "    #(~df['mutation_id'].isin(parental_mutations))\n",
    "]\n"
   ]
  },
  {
   "cell_type": "code",
   "execution_count": 265,
   "id": "28dd5384",
   "metadata": {},
   "outputs": [],
   "source": [
    "threshold = 0.01 # majority mutations frequency threshold\n",
    "n_samples = 100 #number of randomizations to perform\n",
    "\n",
    "np.random.seed(111111) #makes results reproducable, seed was randomly generated before first run"
   ]
  },
  {
   "cell_type": "code",
   "execution_count": 267,
   "id": "5a7425be",
   "metadata": {},
   "outputs": [],
   "source": [
    "# Prepare dataframe \n",
    "\n",
    "# filter for majority mutations\n",
    "# majority = with observed mutation frequency >= threshold\n",
    "muts_high_freq = df[df['frequency']>=threshold]['mutation_id']\n",
    "\n",
    "df['mutation_id+line_id'] = df['mutation_id'] + df['line_id']\n",
    "\n",
    "df_pivot = df[df['mutation_id'].isin(muts_high_freq)].pivot_table(values='frequency', \n",
    "                          index = 'mutation_id',\n",
    "                          columns='line_id',\n",
    "                          aggfunc={'frequency': lambda x : True},\n",
    "                          fill_value=False \n",
    "                         )\n",
    "\n",
    "df_pivot = df[df['frequency']>=threshold].pivot_table(values='frequency', \n",
    "                          index = 'mutation_id',\n",
    "                          columns='line_id',\n",
    "                          aggfunc={'frequency': lambda x : True},\n",
    "                          fill_value=False \n",
    "                         )\n",
    "\n",
    "df_pivot = df_pivot.reset_index()\n",
    "df_pivot = df_pivot.set_index('mutation_id')"
   ]
  },
  {
   "cell_type": "code",
   "execution_count": 268,
   "id": "6434dc72",
   "metadata": {},
   "outputs": [
    {
     "data": {
      "text/html": [
       "<div>\n",
       "<style scoped>\n",
       "    .dataframe tbody tr th:only-of-type {\n",
       "        vertical-align: middle;\n",
       "    }\n",
       "\n",
       "    .dataframe tbody tr th {\n",
       "        vertical-align: top;\n",
       "    }\n",
       "\n",
       "    .dataframe thead th {\n",
       "        text-align: right;\n",
       "    }\n",
       "</style>\n",
       "<table border=\"1\" class=\"dataframe\">\n",
       "  <thead>\n",
       "    <tr style=\"text-align: right;\">\n",
       "      <th>line_id</th>\n",
       "      <th>I_a</th>\n",
       "      <th>I_b</th>\n",
       "      <th>I_c</th>\n",
       "      <th>K_a</th>\n",
       "      <th>K_b</th>\n",
       "      <th>K_c</th>\n",
       "      <th>W_a</th>\n",
       "      <th>W_b</th>\n",
       "      <th>W_c</th>\n",
       "    </tr>\n",
       "    <tr>\n",
       "      <th>mutation_id</th>\n",
       "      <th></th>\n",
       "      <th></th>\n",
       "      <th></th>\n",
       "      <th></th>\n",
       "      <th></th>\n",
       "      <th></th>\n",
       "      <th></th>\n",
       "      <th></th>\n",
       "      <th></th>\n",
       "    </tr>\n",
       "  </thead>\n",
       "  <tbody>\n",
       "    <tr>\n",
       "      <th>1023T</th>\n",
       "      <td>False</td>\n",
       "      <td>False</td>\n",
       "      <td>False</td>\n",
       "      <td>False</td>\n",
       "      <td>True</td>\n",
       "      <td>False</td>\n",
       "      <td>False</td>\n",
       "      <td>False</td>\n",
       "      <td>False</td>\n",
       "    </tr>\n",
       "    <tr>\n",
       "      <th>1075T</th>\n",
       "      <td>False</td>\n",
       "      <td>False</td>\n",
       "      <td>False</td>\n",
       "      <td>False</td>\n",
       "      <td>False</td>\n",
       "      <td>True</td>\n",
       "      <td>False</td>\n",
       "      <td>False</td>\n",
       "      <td>False</td>\n",
       "    </tr>\n",
       "    <tr>\n",
       "      <th>1077T</th>\n",
       "      <td>False</td>\n",
       "      <td>False</td>\n",
       "      <td>True</td>\n",
       "      <td>False</td>\n",
       "      <td>False</td>\n",
       "      <td>False</td>\n",
       "      <td>False</td>\n",
       "      <td>False</td>\n",
       "      <td>False</td>\n",
       "    </tr>\n",
       "    <tr>\n",
       "      <th>1084C</th>\n",
       "      <td>False</td>\n",
       "      <td>True</td>\n",
       "      <td>False</td>\n",
       "      <td>False</td>\n",
       "      <td>False</td>\n",
       "      <td>False</td>\n",
       "      <td>False</td>\n",
       "      <td>False</td>\n",
       "      <td>False</td>\n",
       "    </tr>\n",
       "    <tr>\n",
       "      <th>1088C</th>\n",
       "      <td>False</td>\n",
       "      <td>False</td>\n",
       "      <td>False</td>\n",
       "      <td>False</td>\n",
       "      <td>True</td>\n",
       "      <td>False</td>\n",
       "      <td>False</td>\n",
       "      <td>False</td>\n",
       "      <td>False</td>\n",
       "    </tr>\n",
       "    <tr>\n",
       "      <th>...</th>\n",
       "      <td>...</td>\n",
       "      <td>...</td>\n",
       "      <td>...</td>\n",
       "      <td>...</td>\n",
       "      <td>...</td>\n",
       "      <td>...</td>\n",
       "      <td>...</td>\n",
       "      <td>...</td>\n",
       "      <td>...</td>\n",
       "    </tr>\n",
       "    <tr>\n",
       "      <th>923G</th>\n",
       "      <td>False</td>\n",
       "      <td>False</td>\n",
       "      <td>False</td>\n",
       "      <td>True</td>\n",
       "      <td>False</td>\n",
       "      <td>False</td>\n",
       "      <td>False</td>\n",
       "      <td>False</td>\n",
       "      <td>False</td>\n",
       "    </tr>\n",
       "    <tr>\n",
       "      <th>939C</th>\n",
       "      <td>False</td>\n",
       "      <td>True</td>\n",
       "      <td>False</td>\n",
       "      <td>True</td>\n",
       "      <td>False</td>\n",
       "      <td>False</td>\n",
       "      <td>False</td>\n",
       "      <td>False</td>\n",
       "      <td>False</td>\n",
       "    </tr>\n",
       "    <tr>\n",
       "      <th>942T</th>\n",
       "      <td>False</td>\n",
       "      <td>False</td>\n",
       "      <td>False</td>\n",
       "      <td>False</td>\n",
       "      <td>False</td>\n",
       "      <td>False</td>\n",
       "      <td>True</td>\n",
       "      <td>True</td>\n",
       "      <td>False</td>\n",
       "    </tr>\n",
       "    <tr>\n",
       "      <th>951G</th>\n",
       "      <td>True</td>\n",
       "      <td>False</td>\n",
       "      <td>False</td>\n",
       "      <td>False</td>\n",
       "      <td>False</td>\n",
       "      <td>False</td>\n",
       "      <td>False</td>\n",
       "      <td>False</td>\n",
       "      <td>False</td>\n",
       "    </tr>\n",
       "    <tr>\n",
       "      <th>984A</th>\n",
       "      <td>False</td>\n",
       "      <td>False</td>\n",
       "      <td>False</td>\n",
       "      <td>False</td>\n",
       "      <td>False</td>\n",
       "      <td>False</td>\n",
       "      <td>False</td>\n",
       "      <td>True</td>\n",
       "      <td>False</td>\n",
       "    </tr>\n",
       "  </tbody>\n",
       "</table>\n",
       "<p>373 rows × 9 columns</p>\n",
       "</div>"
      ],
      "text/plain": [
       "line_id        I_a    I_b    I_c    K_a    K_b    K_c    W_a    W_b    W_c\n",
       "mutation_id                                                               \n",
       "1023T        False  False  False  False   True  False  False  False  False\n",
       "1075T        False  False  False  False  False   True  False  False  False\n",
       "1077T        False  False   True  False  False  False  False  False  False\n",
       "1084C        False   True  False  False  False  False  False  False  False\n",
       "1088C        False  False  False  False   True  False  False  False  False\n",
       "...            ...    ...    ...    ...    ...    ...    ...    ...    ...\n",
       "923G         False  False  False   True  False  False  False  False  False\n",
       "939C         False   True  False   True  False  False  False  False  False\n",
       "942T         False  False  False  False  False  False   True   True  False\n",
       "951G          True  False  False  False  False  False  False  False  False\n",
       "984A         False  False  False  False  False  False  False   True  False\n",
       "\n",
       "[373 rows x 9 columns]"
      ]
     },
     "execution_count": 268,
     "metadata": {},
     "output_type": "execute_result"
    }
   ],
   "source": [
    "df_pivot"
   ]
  },
  {
   "cell_type": "markdown",
   "id": "a52fbd74",
   "metadata": {},
   "source": [
    "## Randomization"
   ]
  },
  {
   "cell_type": "code",
   "execution_count": 269,
   "id": "a573132f",
   "metadata": {},
   "outputs": [],
   "source": [
    "def randomize(dataframe):\n",
    "    '''randomize a dataframe with rows of true/falses, to keep the number of true/falses per row, \n",
    "    but change the exact positions'''\n",
    "    \n",
    "    # Compute probability of choosing experimental line\n",
    "    n_mutations_per_line = dataframe.sum()\n",
    "    weight_of_line = n_mutations_per_line/n_mutations_per_line.sum() \n",
    "    #print(\"weight_of_line\" , weight_of_line)\n",
    "    \n",
    "    n_lines_mut_occurs_in = dataframe.sum(1).astype(int)\n",
    "    \n",
    "    randomized = [\n",
    "        np.random.choice(dataframe.columns,p=weight_of_line,size=i,replace=False) \n",
    "        for i in n_lines_mut_occurs_in\n",
    "    ]\n",
    "    \n",
    "    return pd.DataFrame(\n",
    "        [dataframe.columns.isin(i) for i in randomized],columns=dataframe.columns,index=dataframe.index\n",
    "    )"
   ]
  },
  {
   "cell_type": "code",
   "execution_count": 270,
   "id": "5303119e",
   "metadata": {},
   "outputs": [
    {
     "name": "stderr",
     "output_type": "stream",
     "text": [
      "                                                                                                                                                                                                           \r"
     ]
    }
   ],
   "source": [
    "# list of n_samples random realization of the mutation dataframe\n",
    "random = [randomize(df_pivot) for i in tqdm(range(1),leave=False, desc='randomizing')]"
   ]
  },
  {
   "cell_type": "code",
   "execution_count": 271,
   "id": "2bf9a252",
   "metadata": {},
   "outputs": [
    {
     "name": "stdout",
     "output_type": "stream",
     "text": [
      "weight_of_line line_id\n",
      "I_a    0.097701\n",
      "I_b    0.101533\n",
      "I_c    0.105364\n",
      "K_a    0.091954\n",
      "K_b    0.116858\n",
      "K_c    0.118774\n",
      "W_a    0.118774\n",
      "W_b    0.114943\n",
      "W_c    0.134100\n",
      "dtype: float64\n"
     ]
    }
   ],
   "source": [
    "n_mutations_per_line = random[0].sum()\n",
    "weight_of_line = n_mutations_per_line/n_mutations_per_line.sum() \n",
    "print(\"weight_of_line\" , weight_of_line)\n",
    "    "
   ]
  },
  {
   "cell_type": "code",
   "execution_count": 272,
   "id": "c8aa8121",
   "metadata": {},
   "outputs": [
    {
     "name": "stderr",
     "output_type": "stream",
     "text": [
      "                                                                                                                                                                                                           \r"
     ]
    }
   ],
   "source": [
    "# list of n_samples random realization of the mutation dataframe\n",
    "random = [randomize(df_pivot) for i in tqdm(range(n_samples),leave=False, desc='randomizing')]"
   ]
  },
  {
   "cell_type": "code",
   "execution_count": 273,
   "id": "b817d6cf",
   "metadata": {},
   "outputs": [],
   "source": [
    "lines_WT = ['W_a', 'W_b', 'W_c']\n",
    "\n",
    "lines_OE = ['I_a', 'I_b','I_c']\n",
    "\n",
    "lines_KO = ['K_a', 'K_b', 'K_c']"
   ]
  },
  {
   "cell_type": "markdown",
   "id": "8ecc49e7",
   "metadata": {},
   "source": [
    "## Prepare plotting "
   ]
  },
  {
   "cell_type": "code",
   "execution_count": 274,
   "id": "5032017c",
   "metadata": {},
   "outputs": [],
   "source": [
    "# Prepare results for plotting\n",
    "to_plot = {}"
   ]
  },
  {
   "cell_type": "code",
   "execution_count": 275,
   "id": "bb50769b",
   "metadata": {},
   "outputs": [],
   "source": [
    "# mutations that are shared only in one GT \n",
    "\n",
    "for shared_in_GT, lines_GT in zip(['WT only', 'KO only', 'IP only'], [lines_WT, lines_KO, lines_OE]):\n",
    "\n",
    "    # select mutations that only occur in one GT\n",
    "    same = df_pivot[lines_GT].sum(1) == df_pivot.sum(1)\n",
    "    mut_table_here = df_pivot[same] \n",
    "    \n",
    "    # add observation \n",
    "    to_plot[shared_in_GT] = [(mut_table_here.sum(1)>1).sum()]\n",
    "    \n",
    "    # add what is expected from the randomization test\n",
    "    rands = []\n",
    "    for r in random:\n",
    "        same = r[lines_GT].sum(1) == r.sum(1)\n",
    "        mut_table_here = r[same]\n",
    "        rands.append((mut_table_here.sum(1)>1).sum())\n",
    "        \n",
    "    to_plot[shared_in_GT].append(rands)"
   ]
  },
  {
   "cell_type": "code",
   "execution_count": 276,
   "id": "a42de62d",
   "metadata": {},
   "outputs": [],
   "source": [
    "# mutations that are shared in two genotypes \n",
    "\n",
    "# add observations \n",
    "set_of_mutations_WT = set(df_pivot[(df_pivot[lines_WT].sum(1)>0)].index)\n",
    "set_of_mutations_KO = set(df_pivot[(df_pivot[lines_KO].sum(1)>0)].index)\n",
    "set_of_mutations_OE = set(df_pivot[(df_pivot[lines_OE].sum(1)>0)].index)\n",
    "\n",
    "shared_mutation_WT_OE = set_of_mutations_WT.intersection(set_of_mutations_OE) - set_of_mutations_KO\n",
    "shared_mutation_WT_KO = set_of_mutations_WT.intersection(set_of_mutations_KO) - set_of_mutations_OE\n",
    "shared_mutation_OE_KO = set_of_mutations_OE.intersection(set_of_mutations_KO) - set_of_mutations_WT\n",
    "\n",
    "to_plot['shared IP and WT'] = [(df_pivot.loc[list(shared_mutation_WT_OE)].sum(1)>1).sum()]\n",
    "to_plot['shared KO and WT'] = [(df_pivot.loc[list(shared_mutation_WT_KO)].sum(1)>1).sum()]\n",
    "to_plot['shared IP and KO'] = [(df_pivot.loc[list(shared_mutation_OE_KO)].sum(1)>1).sum()]\n",
    "\n",
    "# add from randomization tests  \n",
    "\n",
    "# shared OE and WT\n",
    "rands = []\n",
    "for r in random:\n",
    "    set_of_mutations_WT = set(r[(r[lines_WT].sum(1)>0)].index)\n",
    "    set_of_mutations_OE = set(r[(r[lines_OE].sum(1)>0)].index)\n",
    "    set_of_mutations_KO = set(r[(r[lines_KO].sum(1)>0)].index)\n",
    "    shared_mutation_WT_OE = set_of_mutations_WT.intersection(set_of_mutations_OE) - set_of_mutations_KO\n",
    "    \n",
    "    rands.append((r.loc[list(shared_mutation_WT_OE)].sum(1)>1).sum())\n",
    "to_plot['shared IP and WT'].append(rands)\n",
    "\n",
    "# shared KO and WT\n",
    "rands = []\n",
    "for r in random:\n",
    "    set_of_mutations_WT = set(r[(r[lines_WT].sum(1)>0)].index)\n",
    "    set_of_mutations_KO = set(r[(r[lines_KO].sum(1)>0)].index)\n",
    "    set_of_mutations_OE = set(r[(r[lines_OE].sum(1)>0)].index) \n",
    "    shared_mutation_WT_KO = set_of_mutations_WT.intersection(set_of_mutations_KO) - set_of_mutations_OE\n",
    "    \n",
    "    rands.append((r.loc[list(shared_mutation_WT_KO)].sum(1)>1).sum())\n",
    "to_plot['shared KO and WT'].append(rands)\n",
    "\n",
    "# shared OE and KO\n",
    "rands = []\n",
    "for r in random:\n",
    "    set_of_mutations_WT = set(r[(r[lines_WT].sum(1)>0)].index)\n",
    "    set_of_mutations_OE = set(r[(r[lines_OE].sum(1)>0)].index)\n",
    "    set_of_mutations_KO = set(r[(r[lines_KO].sum(1)>0)].index)\n",
    "    shared_mutation_OE_KO = set_of_mutations_OE.intersection(set_of_mutations_KO) - set_of_mutations_WT\n",
    "    \n",
    "    rands.append((r.loc[list(shared_mutation_OE_KO)].sum(1)>1).sum())\n",
    "to_plot['shared IP and KO'].append(rands)\n",
    "\n",
    "# mutations that are shared between all three genotypes\n",
    "# add observations \n",
    "set_of_mutations_WT = set(df_pivot[(df_pivot[lines_WT].sum(1)>0)].index)\n",
    "set_of_mutations_KO = set(df_pivot[(df_pivot[lines_KO].sum(1)>0)].index)\n",
    "set_of_mutations_OE = set(df_pivot[(df_pivot[lines_OE].sum(1)>0)].index)\n",
    "shared_mutations_WT_OE_KO = set_of_mutations_WT.intersection(set_of_mutations_OE, set_of_mutations_KO)\n",
    "\n",
    "# add observations \n",
    "to_plot['shared KO, IP and WT'] = [(df_pivot.loc[list(shared_mutations_WT_OE_KO)].sum(1)>=3).sum()]\n",
    "\n",
    "# add from randomization tests  \n",
    "rands = []\n",
    "for r in random:\n",
    "    set_of_mutations_WT = set(r[(r[lines_WT].sum(1)>0)].index)\n",
    "    set_of_mutations_KO = set(r[(r[lines_KO].sum(1)>0)].index)\n",
    "    set_of_mutations_OE = set(r[(r[lines_OE].sum(1)>0)].index)\n",
    "    shared_mutations_WT_OE_KO = set_of_mutations_WT.intersection(set_of_mutations_OE, set_of_mutations_KO)\n",
    "\n",
    "    rands.append((r.loc[list(shared_mutations_WT_OE_KO)].sum(1)>1).sum())\n",
    "to_plot['shared KO, IP and WT'].append(rands)\n",
    "\n"
   ]
  },
  {
   "cell_type": "markdown",
   "id": "3ba2e611",
   "metadata": {},
   "source": [
    "## Statisics on sharing"
   ]
  },
  {
   "cell_type": "code",
   "execution_count": 277,
   "id": "5c489965",
   "metadata": {},
   "outputs": [
    {
     "name": "stdout",
     "output_type": "stream",
     "text": [
      "total number of mutations:  58\n"
     ]
    }
   ],
   "source": [
    "total = sum([to_plot[i][0] for i in to_plot])\n",
    "shared = sum([to_plot[i][0] for i in to_plot if 'shared' in i])\n",
    "print('total number of mutations: ',total)\n",
    "#print('shared mutations: {}, {}%'.format(shared, 100*shared/total) )\n",
    "#print('shared mutations, all genotypes: {}, {}%'.format(to_plot['shared KO, IP and WT'][0],                                                    100*to_plot['shared KO, OE and WT'][0]/total) )\n"
   ]
  },
  {
   "cell_type": "markdown",
   "id": "087aa174",
   "metadata": {},
   "source": [
    "## Plotting "
   ]
  },
  {
   "cell_type": "code",
   "execution_count": 278,
   "id": "414de8c5",
   "metadata": {},
   "outputs": [],
   "source": [
    "def p_code(p):\n",
    "    if p<0.001:\n",
    "        return '***'\n",
    "    if p< 0.01:\n",
    "        return '**'\n",
    "    if p < 0.05:\n",
    "        return '*'\n",
    "    if p < 0.1:\n",
    "        return '.'\n",
    "    return ''"
   ]
  },
  {
   "cell_type": "code",
   "execution_count": 279,
   "id": "8dbdc84f",
   "metadata": {},
   "outputs": [
    {
     "name": "stdout",
     "output_type": "stream",
     "text": [
      "WT only  :  7\n",
      "WT only  :  3.58\n",
      "KO only  :  10\n",
      "KO only  :  2.62\n",
      "IP only  :  9\n",
      "IP only  :  2.86\n",
      "shared IP and WT  :  7\n",
      "shared IP and WT  :  10.66\n",
      "shared KO and WT  :  5\n",
      "shared KO and WT  :  10.25\n",
      "shared IP and KO  :  5\n",
      "shared IP and KO  :  9.3\n",
      "shared KO, IP and WT  :  15\n",
      "shared KO, IP and WT  :  18.73\n"
     ]
    },
    {
     "data": {
      "image/png": "[encoded data removed]",
      "text/plain": [
       "<Figure size 1008x504 with 1 Axes>"
      ]
     },
     "metadata": {
      "needs_background": "light"
     },
     "output_type": "display_data"
    }
   ],
   "source": [
    "\n",
    "\n",
    "fig = plt.figure(figsize=[14,7])\n",
    "pos = 0\n",
    "xpos = []\n",
    "xlabel = []\n",
    "for category in to_plot.keys():\n",
    "        plt.bar(pos,to_plot[category][0],color='#38369A',width=0.5)\n",
    "        print(category, \" : \", to_plot[category][0])\n",
    "        xpos.append(pos+0.25)\n",
    "        pos+=0.5\n",
    "        xlabel.append(category)\n",
    "        mean = np.mean(to_plot[category][1])\n",
    "        print(category, \" : \", mean)\n",
    "        plt.bar(pos, mean,color='grey',width=0.5)\n",
    "        ci = [sorted(to_plot[category][1])[int(n_samples*0.025)],\n",
    "              sorted(to_plot[category][1])[-int(n_samples*0.025)]]\n",
    "\n",
    "        plt.plot([pos,pos],ci,color='black')\n",
    "\n",
    "        p = 1-2*abs((1.0*sum(np.array(to_plot[category][1])>to_plot[category][0])/n_samples)-0.5)\n",
    "        #print(\"p \", p)\n",
    "        #print(\"final_adjusted_p\", final_adjusted_p)\n",
    "\n",
    "        plt.text(pos-0.25,max(to_plot[category][0],mean)+0.25,p_code(p),\n",
    "                 va='bottom',ha='center')\n",
    "        pos+=1\n",
    "\n",
    "plt.xticks(xpos,xlabel,fontsize=15, rotation=90)\n",
    "plt.ylabel('Number of mutations',fontsize=20)\n",
    "\n",
    "import matplotlib.patches as mpatches\n",
    "from matplotlib.lines import Line2D\n",
    "\n",
    "data = mpatches.Patch(color='#38369A', label='data')\n",
    "random = mpatches.Patch(color='grey', label='randomization')\n",
    "hpd = Line2D([0],[0],label='95% HPD interval',color='black')\n",
    "\n",
    "plt.legend(handles=[data,random,hpd],fontsize=15)\n",
    "#plt.savefig('fig4_effect_environment.pdf')\n",
    "plt.show()\n",
    "\n"
   ]
  },
  {
   "cell_type": "code",
   "execution_count": null,
   "id": "748fc00e",
   "metadata": {},
   "outputs": [],
   "source": [
    "# adjust p-value (correct for multiple testing)\n",
    "\n"
   ]
  }
 ],
 "metadata": {
  "kernelspec": {
   "display_name": "Python 3 (ipykernel)",
   "language": "python",
   "name": "python3"
  },
  "language_info": {
   "codemirror_mode": {
    "name": "ipython",
    "version": 3
   },
   "file_extension": ".py",
   "mimetype": "text/x-python",
   "name": "python",
   "nbconvert_exporter": "python",
   "pygments_lexer": "ipython3",
   "version": "3.9.0"
  }
 },
 "nbformat": 4,
 "nbformat_minor": 5
}
