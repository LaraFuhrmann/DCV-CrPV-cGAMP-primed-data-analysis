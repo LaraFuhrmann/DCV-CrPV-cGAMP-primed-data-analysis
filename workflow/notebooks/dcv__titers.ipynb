{
 "cells": [
  {
   "cell_type": "code",
   "execution_count": 1,
   "id": "9e7e4c1c",
   "metadata": {},
   "outputs": [],
   "source": [
    "import pandas as pd\n",
    "import seaborn as sns\n",
    "import numpy as np\n",
    "import matplotlib.pyplot as plt"
   ]
  },
  {
   "cell_type": "code",
   "execution_count": 2,
   "id": "63441403",
   "metadata": {},
   "outputs": [],
   "source": [
    "our_color_palette = {\"WT\": \"#F2C14E\", # yellow\n",
    "                     \"W\": \"#F2C14E\", # yellow\n",
    "                     \"IP\": \"#79ADDC\", # blue\n",
    "                     \"I\": \"#79ADDC\", # blue\n",
    "                     \"KO\": \"#B279A7\", # purple\n",
    "                     \"K\": \"#B279A7\", # purple\n",
    "                    } \n",
    "treatments_list = [\"W\", \"I\", \"K\"]\n",
    "passages_list = [\"p1\", \"p2\", \"p3\", \"p5\", \"p10\"]\n",
    "replicates_list = ['a', 'b', 'c']"
   ]
  },
  {
   "cell_type": "code",
   "execution_count": 3,
   "id": "ed5e6c27",
   "metadata": {},
   "outputs": [
    {
     "data": {
      "text/html": [
       "<div>\n",
       "<style scoped>\n",
       "    .dataframe tbody tr th:only-of-type {\n",
       "        vertical-align: middle;\n",
       "    }\n",
       "\n",
       "    .dataframe tbody tr th {\n",
       "        vertical-align: top;\n",
       "    }\n",
       "\n",
       "    .dataframe thead th {\n",
       "        text-align: right;\n",
       "    }\n",
       "</style>\n",
       "<table border=\"1\" class=\"dataframe\">\n",
       "  <thead>\n",
       "    <tr style=\"text-align: right;\">\n",
       "      <th></th>\n",
       "      <th>virus</th>\n",
       "      <th>passage</th>\n",
       "      <th>genotype</th>\n",
       "      <th>replicate</th>\n",
       "      <th>titer</th>\n",
       "      <th>log_titer</th>\n",
       "      <th>rep</th>\n",
       "    </tr>\n",
       "  </thead>\n",
       "  <tbody>\n",
       "    <tr>\n",
       "      <th>0</th>\n",
       "      <td>crpv</td>\n",
       "      <td>1</td>\n",
       "      <td>WT</td>\n",
       "      <td>a</td>\n",
       "      <td>3.160000e+08</td>\n",
       "      <td>19.571253</td>\n",
       "      <td>WTa</td>\n",
       "    </tr>\n",
       "    <tr>\n",
       "      <th>1</th>\n",
       "      <td>crpv</td>\n",
       "      <td>2</td>\n",
       "      <td>WT</td>\n",
       "      <td>a</td>\n",
       "      <td>4.640000e+09</td>\n",
       "      <td>22.257980</td>\n",
       "      <td>WTa</td>\n",
       "    </tr>\n",
       "    <tr>\n",
       "      <th>2</th>\n",
       "      <td>crpv</td>\n",
       "      <td>3</td>\n",
       "      <td>WT</td>\n",
       "      <td>a</td>\n",
       "      <td>4.640000e+09</td>\n",
       "      <td>22.257980</td>\n",
       "      <td>WTa</td>\n",
       "    </tr>\n",
       "    <tr>\n",
       "      <th>3</th>\n",
       "      <td>crpv</td>\n",
       "      <td>4</td>\n",
       "      <td>WT</td>\n",
       "      <td>a</td>\n",
       "      <td>3.160000e+09</td>\n",
       "      <td>21.873838</td>\n",
       "      <td>WTa</td>\n",
       "    </tr>\n",
       "    <tr>\n",
       "      <th>4</th>\n",
       "      <td>crpv</td>\n",
       "      <td>5</td>\n",
       "      <td>WT</td>\n",
       "      <td>a</td>\n",
       "      <td>4.640000e+09</td>\n",
       "      <td>22.257980</td>\n",
       "      <td>WTa</td>\n",
       "    </tr>\n",
       "  </tbody>\n",
       "</table>\n",
       "</div>"
      ],
      "text/plain": [
       "  virus   passage genotype replicate         titer  log_titer  rep\n",
       "0   crpv        1       WT         a  3.160000e+08  19.571253  WTa\n",
       "1   crpv        2       WT         a  4.640000e+09  22.257980  WTa\n",
       "2   crpv        3       WT         a  4.640000e+09  22.257980  WTa\n",
       "3   crpv        4       WT         a  3.160000e+09  21.873838  WTa\n",
       "4   crpv        5       WT         a  4.640000e+09  22.257980  WTa"
      ]
     },
     "execution_count": 3,
     "metadata": {},
     "output_type": "execute_result"
    }
   ],
   "source": [
    "df = pd.read_csv(\"../../resources/additional_data/titers.formated.csv\")\n",
    "\n",
    "# log-transform titer values to \"normalize\" data distribution \n",
    "df[\"log_titer\"] = np.log(df['titer'])\n",
    "df['rep'] = df['genotype'] + df['replicate']\n",
    "\n",
    "df.head(5)"
   ]
  },
  {
   "cell_type": "code",
   "execution_count": 4,
   "id": "d3ef808d",
   "metadata": {},
   "outputs": [
    {
     "data": {
      "text/plain": [
       "Index(['virus ', 'passage', 'genotype', 'replicate', 'titer', 'log_titer',\n",
       "       'rep'],\n",
       "      dtype='object')"
      ]
     },
     "execution_count": 4,
     "metadata": {},
     "output_type": "execute_result"
    }
   ],
   "source": [
    "df.columns"
   ]
  },
  {
   "cell_type": "code",
   "execution_count": 47,
   "id": "2369acea",
   "metadata": {},
   "outputs": [
    {
     "name": "stderr",
     "output_type": "stream",
     "text": [
      "/var/folders/dw/8dl4p6h53cgcmk6cf_09v5f40000gr/T/ipykernel_7745/2879440015.py:3: FutureWarning: \n",
      "\n",
      "The `errwidth` parameter is deprecated. And will be removed in v0.15.0. Pass `err_kws={'linewidth': 1.1}` instead.\n",
      "\n",
      "  sns.barplot(\n"
     ]
    },
    {
     "data": {
      "text/plain": [
       "<AxesSubplot: xlabel='passage', ylabel='log_titer'>"
      ]
     },
     "execution_count": 47,
     "metadata": {},
     "output_type": "execute_result"
    },
    {
     "data": {
      "image/png": "[encoded data removed]",
      "text/plain": [
       "<Figure size 1152x576 with 1 Axes>"
      ]
     },
     "metadata": {
      "needs_background": "light"
     },
     "output_type": "display_data"
    }
   ],
   "source": [
    "fig, ax = plt.subplots(1,1,  sharey=True, figsize=(16,8))\n",
    "\n",
    "sns.barplot(\n",
    "    data=df[df['virus ']=='dcv'], \n",
    "    hue='genotype', \n",
    "    x='passage', \n",
    "    palette=our_color_palette,\n",
    "    y='log_titer',\n",
    "    errwidth=1.1, \n",
    "    errorbar=\"se\",\n",
    "    dodge=0.2,\n",
    "    capsize=0.1\n",
    ")"
   ]
  },
  {
   "cell_type": "code",
   "execution_count": 6,
   "id": "985a454d",
   "metadata": {},
   "outputs": [],
   "source": [
    "df_crpv = df[df['virus ']=='crpv']\n",
    "df_dcv = df[df['virus ']=='dcv']"
   ]
  },
  {
   "cell_type": "code",
   "execution_count": 7,
   "id": "1f6d97ef",
   "metadata": {},
   "outputs": [],
   "source": [
    "%load_ext rpy2.ipython"
   ]
  },
  {
   "cell_type": "markdown",
   "id": "f4f5ba7d",
   "metadata": {},
   "source": [
    "## dcv"
   ]
  },
  {
   "cell_type": "code",
   "execution_count": 9,
   "id": "015af374",
   "metadata": {},
   "outputs": [
    {
     "name": "stderr",
     "output_type": "stream",
     "text": [
      "/Users/lfuhrmann/Library/Python/3.9/lib/python/site-packages/rpy2/robjects/pandas2ri.py:54: FutureWarning: iteritems is deprecated and will be removed in a future version. Use .items instead.\n",
      "  for name, values in obj.iteritems():\n"
     ]
    }
   ],
   "source": [
    "%%R -i df_dcv \n",
    "\n",
    "\n",
    "\n",
    "df_dcv$passage <- as.factor(df_dcv$passage)\n",
    "\n",
    "# Convert genotype to factor\n",
    "df_dcv$genotype <- factor(df_dcv$genotype)\n",
    "\n",
    "# Relevel the genotype factor with W as reference\n",
    "df_dcv$genotype <- relevel(df_dcv$genotype, ref = \"WT\")\n",
    "\n"
   ]
  },
  {
   "cell_type": "code",
   "execution_count": 10,
   "id": "85f52f21",
   "metadata": {},
   "outputs": [
    {
     "name": "stderr",
     "output_type": "stream",
     "text": [
      "R[write to console]: \n",
      "Attaching package: ‘rstatix’\n",
      "\n",
      "\n",
      "R[write to console]: The following object is masked from ‘package:stats’:\n",
      "\n",
      "    filter\n",
      "\n",
      "\n"
     ]
    },
    {
     "name": "stdout",
     "output_type": "stream",
     "text": [
      "ANOVA Table (type II tests)\n",
      "\n",
      "            Effect DFn DFd     F        p p<.05   ges\n",
      "1         genotype   2   6 5.586 4.30e-02     * 0.176\n",
      "2          passage   9  54 7.928 2.37e-07     * 0.539\n",
      "3 genotype:passage  18  54 1.524 1.18e-01       0.310\n"
     ]
    }
   ],
   "source": [
    "%%R \n",
    "\n",
    "# use mixed ANOVA\n",
    "# within-subject factor: passage\n",
    "# indepentent between factor: genotype \n",
    "# dependent variable: dcv titers\n",
    "\n",
    "library(rstatix)\n",
    "\n",
    "# Two-way mixed ANOVA test\n",
    "res.aov <- anova_test(\n",
    "  data = df_dcv, \n",
    "    dv = log_titer, \n",
    "    wid = rep,\n",
    "    between = genotype, \n",
    "    within = passage\n",
    "  )\n",
    "get_anova_table(res.aov)"
   ]
  },
  {
   "cell_type": "code",
   "execution_count": 12,
   "id": "44c9e7d2",
   "metadata": {},
   "outputs": [
    {
     "name": "stderr",
     "output_type": "stream",
     "text": [
      "R[write to console]: Contrasts set to contr.sum for the following variables: genotype\n",
      "\n"
     ]
    },
    {
     "name": "stdout",
     "output_type": "stream",
     "text": [
      "Anova Table (Type 3 tests)\n",
      "\n",
      "Response: log.titer\n",
      "            Effect     df  MSE        F  ges p.value\n",
      "1         genotype   2, 6 1.07   5.59 * .176    .043\n",
      "2          passage  9, 54 0.92 7.93 *** .539   <.001\n",
      "3 genotype:passage 18, 54 0.92     1.52 .310    .118\n",
      "---\n",
      "Signif. codes:  0 ‘***’ 0.001 ‘**’ 0.01 ‘*’ 0.05 ‘+’ 0.1 ‘ ’ 1\n",
      "\n",
      "Sphericity correction method: GG \n"
     ]
    }
   ],
   "source": [
    "%%R \n",
    "\n",
    "# use mixed ANOVA\n",
    "# within-subject factor: passage\n",
    "# indepentent between factor: genotype \n",
    "# dependent variable: dcv titers\n",
    "\n",
    "library(afex)\n",
    "\n",
    "o1 <- aov_ez(\"rep\", \n",
    "             \"titer\", \n",
    "             df_dcv, \n",
    "             transformation = \"log\",\n",
    "             between = \"genotype\", \n",
    "            within =\"passage\")\n",
    "o1"
   ]
  },
  {
   "cell_type": "code",
   "execution_count": 13,
   "id": "8074fc8d",
   "metadata": {},
   "outputs": [
    {
     "name": "stdout",
     "output_type": "stream",
     "text": [
      "OK: There is not clear evidence for different variances across groups (Levene's Test, p = 0.136).\n"
     ]
    }
   ],
   "source": [
    "%%R \n",
    "\n",
    "library(performance) # for assumption checks\n",
    "\n",
    "check_homogeneity(o1)"
   ]
  },
  {
   "cell_type": "code",
   "execution_count": 14,
   "id": "7da0bf59",
   "metadata": {},
   "outputs": [
    {
     "name": "stdout",
     "output_type": "stream",
     "text": [
      "OK: Data seems to be spherical (p > .999).\n"
     ]
    }
   ],
   "source": [
    "%%R \n",
    "\n",
    "library(performance) # for assumption checks\n",
    "\n",
    "check_sphericity(o1)"
   ]
  },
  {
   "cell_type": "code",
   "execution_count": 15,
   "id": "e414a3f5",
   "metadata": {},
   "outputs": [
    {
     "name": "stderr",
     "output_type": "stream",
     "text": [
      "R[write to console]: For confidence bands, please install `qqplotr`.\n",
      "\n"
     ]
    },
    {
     "data": {
      "image/png": "[encoded data removed]"
     },
     "metadata": {},
     "output_type": "display_data"
    }
   ],
   "source": [
    "%%R \n",
    "\n",
    "library(performance) # for assumption checks\n",
    "\n",
    "is_norm <- check_normality(o1)\n",
    "\n",
    "#plot(is_norm)\n",
    "\n",
    "plot(is_norm, type = \"qq\", detrend = TRUE)"
   ]
  },
  {
   "cell_type": "code",
   "execution_count": 56,
   "id": "36c00b00",
   "metadata": {},
   "outputs": [
    {
     "name": "stdout",
     "output_type": "stream",
     "text": [
      " [1] contrast   passage    estimate   SE         df         t.ratio   \n",
      " [7] p.value    sig.level  genotype1  genotype2  y.position\n",
      "<0 rows> (or 0-length row.names)\n"
     ]
    }
   ],
   "source": [
    "%%R\n",
    "\n",
    "sig_results"
   ]
  },
  {
   "cell_type": "code",
   "execution_count": 67,
   "id": "20339657",
   "metadata": {},
   "outputs": [
    {
     "data": {
      "image/png": "[encoded data removed]"
     },
     "metadata": {},
     "output_type": "display_data"
    }
   ],
   "source": [
    "%%R\n",
    "library(emmeans)\n",
    "library(ggplot2)\n",
    "library(dplyr)\n",
    "library(ggpubr)\n",
    "\n",
    "# Example color palette\n",
    "our_color_palette <- c(\"WT\" = \"#F2C14E\",  # yellow\n",
    "                       \"IP\" = \"#79ADDC\",  # blue\n",
    "                       \"KO\" = \"#B279A7\")  # purple\n",
    "\n",
    "# Pairwise comparisons of genotype at each passage level\n",
    "emm_pw <- emmeans(o1, pairwise ~ passage | genotype, adjust = \"bonferroni\")\n",
    "emm_summary <- as.data.frame(summary(emm_pw$emmeans))  # Convert to data frame\n",
    "\n",
    "# Extract the p-value results from the pairwise comparisons\n",
    "p_value_results <- as.data.frame(summary(pairs(emm_pw, by = \"genotype\")))  # Convert to data frame\n",
    "\n",
    "# Add significance levels and filter for significant differences\n",
    "sig_results <- p_value_results %>%\n",
    "  mutate(sig.level = case_when(\n",
    "    p.value <= 0.001 ~ \"***\",\n",
    "    p.value <= 0.01 ~ \"**\",\n",
    "    p.value <= 0.05 ~ \"*\",\n",
    "    TRUE ~ \"ns\"\n",
    "  )) %>%\n",
    "  filter(sig.level != \"ns\")  # Keep only significant comparisons\n",
    "\n",
    "# Extract passage information from the contrast column\n",
    "sig_results <- sig_results %>%\n",
    "  mutate(\n",
    "    passage1 = gsub(\" - .*\", \"\", contrast),\n",
    "    passage2 = gsub(\".* - \", \"\", contrast)\n",
    "  )\n",
    "\n",
    "# Ensure passage is a factor with consistent levels\n",
    "emm_summary$passage <- factor(emm_summary$passage, levels = unique(emm_summary$passage))\n",
    "\n",
    "# Create the plot\n",
    "p <- ggplot() +\n",
    "  geom_bar(data = emm_summary, aes(x = passage, y = emmean, fill = genotype),\n",
    "           stat = \"identity\", position = \"dodge\", width = 0.7) + # Adjust bar width for better spacing\n",
    "  geom_errorbar(data = emm_summary, aes(x = passage, ymin = lower.CL, ymax = upper.CL, group = genotype),\n",
    "                position = position_dodge(0.9), width = 0.2) +\n",
    "  scale_fill_manual(values = our_color_palette) +\n",
    "  facet_grid(~genotype) +\n",
    "  labs(title = \"DCV titers\",\n",
    "       x = \"Passage\",\n",
    "       y = \"Estimated Log Titer\",\n",
    "       fill = \"Genotype\") +\n",
    "  theme_minimal() +\n",
    "  theme(axis.text.x = element_text(angle = 45, hjust = 1, size = 10)) +  # Adjust text size and angle\n",
    "  scale_x_discrete(labels = function(x) as.numeric(gsub(\"X\", \"\", x)))  # Replace \"X1\" with \"1\"\n",
    "\n",
    "# Prepare data for brackets\n",
    "bracket_data <- sig_results %>%\n",
    "  mutate(\n",
    "    xmin = as.numeric(factor(passage1, levels = levels(emm_summary$passage))),\n",
    "    xmax = as.numeric(factor(passage2, levels = levels(emm_summary$passage))),\n",
    "    y.position = max(emm_summary$emmean) + 2\n",
    "  )\n",
    "\n",
    "# Add brackets for significant differences\n",
    "p <- p + geom_bracket(\n",
    "  data = bracket_data,\n",
    "  aes(xmin = xmin, xmax = xmax, y.position = y.position, label = sig.level),\n",
    "  inherit.aes = FALSE,\n",
    "  label.size = 6, # Increase star size\n",
    "  tip.length = 0.01,\n",
    "  bracket.size = 0.7 # Increase bracket size\n",
    ")\n",
    "\n",
    "# Display the plot\n",
    "print(p)\n",
    "\n",
    "# Adjust figure size when saving (optional)\n",
    "#ggsave(\"myplot.png\", p, width = 8, height = 5)\n",
    "\n",
    "\n"
   ]
  },
  {
   "cell_type": "code",
   "execution_count": 64,
   "id": "dcb9c1ab",
   "metadata": {},
   "outputs": [
    {
     "name": "stdout",
     "output_type": "stream",
     "text": [
      "  contrast genotype estimate        SE df  t.ratio    p.value sig.level\n",
      "1  X1 - X3       WT 3.199015 0.5866969  6 5.452585 0.02266055         *\n",
      "  passage1 passage2 xmin xmax y.position\n",
      "1       X1       X3    1    1   26.94448\n"
     ]
    }
   ],
   "source": [
    "%%R\n",
    "bracket_data"
   ]
  },
  {
   "cell_type": "code",
   "execution_count": 17,
   "id": "269d9fae",
   "metadata": {},
   "outputs": [
    {
     "name": "stdout",
     "output_type": "stream",
     "text": [
      "[1] contrast   passage    estimate   SE         df         t.ratio    p.value   \n",
      "[8] sig.level  y.position\n",
      "<0 rows> (or 0-length row.names)\n"
     ]
    }
   ],
   "source": [
    "%%R\n",
    "library(emmeans)\n",
    "library(ggplot2)\n",
    "library(dplyr)\n",
    "\n",
    "# Pairwise comparisons of genotype at each passage level\n",
    "emm_pw <- emmeans(o1, pairwise ~ genotype | passage, adjust = \"bonferroni\")\n",
    "emm_summary <- summary(emm_pw)\n",
    "\n",
    "# Extract the p-value results from the pairwise comparisons\n",
    "p_value_results <- summary(pairs(emm_pw, by = \"passage\"))\n",
    "\n",
    "# Add significance levels and filter for significant differences\n",
    "sig_results <- p_value_results %>%\n",
    "  mutate(sig.level = case_when(\n",
    "    p.value <= 0.001 ~ \"***\",\n",
    "    p.value <= 0.01 ~ \"**\",\n",
    "    p.value <= 0.05 ~ \"*\"\n",
    "  ),\n",
    "  y.position = 0) %>%  # Initialize y.position\n",
    "  filter(!is.na(sig.level))  # Keep only significant comparisons\n",
    "sig_results"
   ]
  },
  {
   "cell_type": "code",
   "execution_count": 18,
   "id": "75144450",
   "metadata": {
    "scrolled": false
   },
   "outputs": [
    {
     "name": "stdout",
     "output_type": "stream",
     "text": [
      "  contrast genotype estimate        SE df  t.ratio    p.value sig.level\n",
      "1  X1 - X3       WT 3.199015 0.5866969  6 5.452585 0.02266055         *\n",
      "  y.position\n",
      "1          0\n"
     ]
    }
   ],
   "source": [
    "%%R \n",
    "\n",
    "# post-ad-hoc tests\n",
    "library(emmeans)\n",
    "library(ggplot2)\n",
    "library(dplyr)\n",
    "\n",
    "# Pairwise comparisons of genotype at each passage level\n",
    "emm_pw <- emmeans(o1, pairwise ~ passage | genotype, adjust = \"bonferroni\")\n",
    "emm_summary <- summary(emm_pw)\n",
    "\n",
    "# Extract the p-value results from the pairwise comparisons\n",
    "p_value_results <- summary(pairs(emm_pw, by = \"genotype\"))\n",
    "\n",
    "# Add significance levels and filter for significant differences\n",
    "sig_results <- p_value_results %>%\n",
    "  mutate(sig.level = case_when(\n",
    "    p.value <= 0.001 ~ \"***\",\n",
    "    p.value <= 0.01 ~ \"**\",\n",
    "    p.value <= 0.05 ~ \"*\"\n",
    "  ),\n",
    "  y.position = 0) %>%  # Initialize y.position\n",
    "  filter(!is.na(sig.level))  # Keep only significant comparisons\n",
    "sig_results"
   ]
  },
  {
   "cell_type": "code",
   "execution_count": 19,
   "id": "1a1a2607",
   "metadata": {},
   "outputs": [
    {
     "data": {
      "image/png": "[encoded data removed]"
     },
     "metadata": {},
     "output_type": "display_data"
    }
   ],
   "source": [
    "%%R \n",
    "\n",
    "library(emmeans)\n",
    "library(ggplot2)\n",
    "library(dplyr)\n",
    "\n",
    "# Compute EMMs for the interaction of genotype and passage\n",
    "emm_interaction <- emmeans(o1, ~ genotype * passage)\n",
    "\n",
    "# Convert to a data frame for easier plotting\n",
    "emm_df <- as.data.frame(emm_interaction)\n",
    "\n",
    "# Create the plot\n",
    "ggplot(emm_df, aes(x = passage, y = emmean, color = genotype, group = genotype)) +\n",
    "  geom_line() +\n",
    "  geom_point() +\n",
    "  geom_errorbar(aes(ymin = lower.CL, ymax = upper.CL), width = 0.2) +\n",
    "  labs(title = \"Estimated Marginal Means: Genotype x Passage\",\n",
    "       x = \"Passage\",\n",
    "       y = \"Estimated Log Titer\") +\n",
    "  theme_minimal()\n",
    "\n",
    "# If you want separate plots for each factor:\n",
    "\n",
    "# For genotype\n",
    "emm_genotype <- emmeans(o1, ~ genotype)\n",
    "plot(emm_genotype) + labs(title = \"Estimated Marginal Means: Genotype\")"
   ]
  },
  {
   "cell_type": "code",
   "execution_count": 20,
   "id": "862cf765",
   "metadata": {},
   "outputs": [
    {
     "data": {
      "image/png": "[encoded data removed]"
     },
     "metadata": {},
     "output_type": "display_data"
    }
   ],
   "source": [
    "%%R\n",
    "\n",
    "# For passage\n",
    "emm_passage <- emmeans(o1, ~ passage)\n",
    "plot(emm_passage) + labs(title = \"Estimated Marginal Means: Passage\")\n"
   ]
  },
  {
   "cell_type": "code",
   "execution_count": null,
   "id": "bc986227",
   "metadata": {},
   "outputs": [],
   "source": []
  }
 ],
 "metadata": {
  "kernelspec": {
   "display_name": "Python 3 (ipykernel)",
   "language": "python",
   "name": "python3"
  },
  "language_info": {
   "codemirror_mode": {
    "name": "ipython",
    "version": 3
   },
   "file_extension": ".py",
   "mimetype": "text/x-python",
   "name": "python",
   "nbconvert_exporter": "python",
   "pygments_lexer": "ipython3",
   "version": "3.9.0"
  }
 },
 "nbformat": 4,
 "nbformat_minor": 5
}
