{
 "cells": [
  {
   "cell_type": "code",
   "execution_count": 1,
   "id": "5fde0df3",
   "metadata": {},
   "outputs": [],
   "source": [
    "import pandas as pd\n",
    "import seaborn as sns\n",
    "import matplotlib.pyplot as plt"
   ]
  },
  {
   "cell_type": "code",
   "execution_count": 2,
   "id": "efd11f9b",
   "metadata": {},
   "outputs": [],
   "source": [
    "our_color_palette = {\"WT\": \"#F2C14E\", # yellow\n",
    "                     \"W\": \"#F2C14E\", # yellow\n",
    "                     \"IP\": \"#79ADDC\", # blue\n",
    "                     \"I\": \"#79ADDC\", # blue\n",
    "                     \"KO\": \"#B279A7\", # purple\n",
    "                     \"K\": \"#B279A7\", # purple\n",
    "                    } \n",
    "treatments_list = [\"W\", \"I\", \"K\"]\n",
    "passages_list = [\"p1\", \"p2\", \"p3\", \"p5\", \"p10\"]\n",
    "replicates_list = ['a', 'b', 'c']"
   ]
  },
  {
   "cell_type": "code",
   "execution_count": 3,
   "id": "240b59f1",
   "metadata": {},
   "outputs": [],
   "source": [
    "# define protein \n",
    "\n",
    "proteins = {'DCV' : {\n",
    "    \"2B\": (1164, 1587),\n",
    "}, \n",
    "            'CrPV': {\n",
    "    \"2B\": (1279, 1692),\n",
    "}\n",
    "           }"
   ]
  },
  {
   "cell_type": "code",
   "execution_count": 4,
   "id": "85e66fee",
   "metadata": {},
   "outputs": [],
   "source": [
    "# load diveristy \n",
    "\n",
    "fname = \"all_snpgenie_site_results.csv\"\n",
    "df = pd.read_csv(fname)"
   ]
  },
  {
   "cell_type": "code",
   "execution_count": 5,
   "id": "f1875ba3",
   "metadata": {},
   "outputs": [],
   "source": [
    "# exclude parental \n",
    "\n",
    "df = df[df['passage']!='parental_p0']"
   ]
  },
  {
   "cell_type": "code",
   "execution_count": 7,
   "id": "538f08cb",
   "metadata": {},
   "outputs": [],
   "source": [
    "df_pis_protein = pd.DataFrame() \n",
    "\n",
    "for virus in ['DCV', 'CrPV']:\n",
    "    for sample in df['passage'].unique():\n",
    "        proteins_virus = proteins[virus]\n",
    "        for protein in proteins_virus.items():\n",
    "            protein_id = protein[0]\n",
    "            protein_start = protein[1][0]\n",
    "            protein_end = protein[1][1]\n",
    "            protein_length = protein_end - protein_start\n",
    "\n",
    "            df_temp = df[df['virus']== virus]\n",
    "            df_temp = df_temp[df_temp['passage']==sample]\n",
    "            df_temp = df_temp[df_temp['site'].isin(list(range(protein_start,protein_end+1 )))]\n",
    "            avg_pi = df_temp['pi'].sum()/protein_length\n",
    "\n",
    "            mean_pis = {\n",
    "                        'virus': [virus], \n",
    "                        'sample': sample, \n",
    "                        'protein': protein_id,\n",
    "                        'avg_pi': avg_pi, \n",
    "                    }\n",
    "\n",
    "            df_pis_protein = pd.concat([pd.DataFrame(mean_pis),df_pis_protein], ignore_index=True)"
   ]
  },
  {
   "cell_type": "code",
   "execution_count": 8,
   "id": "9f843d4d",
   "metadata": {},
   "outputs": [
    {
     "data": {
      "text/html": [
       "<div>\n",
       "<style scoped>\n",
       "    .dataframe tbody tr th:only-of-type {\n",
       "        vertical-align: middle;\n",
       "    }\n",
       "\n",
       "    .dataframe tbody tr th {\n",
       "        vertical-align: top;\n",
       "    }\n",
       "\n",
       "    .dataframe thead th {\n",
       "        text-align: right;\n",
       "    }\n",
       "</style>\n",
       "<table border=\"1\" class=\"dataframe\">\n",
       "  <thead>\n",
       "    <tr style=\"text-align: right;\">\n",
       "      <th></th>\n",
       "      <th>virus</th>\n",
       "      <th>sample</th>\n",
       "      <th>protein</th>\n",
       "      <th>avg_pi</th>\n",
       "      <th>genotype</th>\n",
       "      <th>rep</th>\n",
       "      <th>passage</th>\n",
       "    </tr>\n",
       "  </thead>\n",
       "  <tbody>\n",
       "    <tr>\n",
       "      <th>0</th>\n",
       "      <td>CrPV</td>\n",
       "      <td>W_p10_c</td>\n",
       "      <td>2B</td>\n",
       "      <td>0.000372</td>\n",
       "      <td>W</td>\n",
       "      <td>c</td>\n",
       "      <td>10</td>\n",
       "    </tr>\n",
       "    <tr>\n",
       "      <th>1</th>\n",
       "      <td>CrPV</td>\n",
       "      <td>W_p5_c</td>\n",
       "      <td>2B</td>\n",
       "      <td>0.000195</td>\n",
       "      <td>W</td>\n",
       "      <td>c</td>\n",
       "      <td>5</td>\n",
       "    </tr>\n",
       "    <tr>\n",
       "      <th>2</th>\n",
       "      <td>CrPV</td>\n",
       "      <td>W_p5_b</td>\n",
       "      <td>2B</td>\n",
       "      <td>0.000227</td>\n",
       "      <td>W</td>\n",
       "      <td>b</td>\n",
       "      <td>5</td>\n",
       "    </tr>\n",
       "    <tr>\n",
       "      <th>3</th>\n",
       "      <td>CrPV</td>\n",
       "      <td>W_p5_a</td>\n",
       "      <td>2B</td>\n",
       "      <td>0.001347</td>\n",
       "      <td>W</td>\n",
       "      <td>a</td>\n",
       "      <td>5</td>\n",
       "    </tr>\n",
       "    <tr>\n",
       "      <th>4</th>\n",
       "      <td>CrPV</td>\n",
       "      <td>I_p3_c</td>\n",
       "      <td>2B</td>\n",
       "      <td>0.000168</td>\n",
       "      <td>I</td>\n",
       "      <td>c</td>\n",
       "      <td>3</td>\n",
       "    </tr>\n",
       "  </tbody>\n",
       "</table>\n",
       "</div>"
      ],
      "text/plain": [
       "  virus   sample protein    avg_pi genotype rep  passage\n",
       "0  CrPV  W_p10_c      2B  0.000372        W   c       10\n",
       "1  CrPV   W_p5_c      2B  0.000195        W   c        5\n",
       "2  CrPV   W_p5_b      2B  0.000227        W   b        5\n",
       "3  CrPV   W_p5_a      2B  0.001347        W   a        5\n",
       "4  CrPV   I_p3_c      2B  0.000168        I   c        3"
      ]
     },
     "execution_count": 8,
     "metadata": {},
     "output_type": "execute_result"
    }
   ],
   "source": [
    "df_pis_protein['genotype'] = df_pis_protein['sample'].str.split(\"_\").str[0]\n",
    "df_pis_protein['rep'] = df_pis_protein['sample'].str.split(\"_\").str[-1]\n",
    "df_pis_protein['passage'] = df_pis_protein['sample'].str.split(\"_\").str[1].str.split(\"p\").str[-1].astype(int)\n",
    "\n",
    "df_pis_protein.head()"
   ]
  },
  {
   "cell_type": "code",
   "execution_count": 9,
   "id": "026d7692",
   "metadata": {},
   "outputs": [
    {
     "data": {
      "text/plain": [
       "array(['W', 'I', 'K', 'parental'], dtype=object)"
      ]
     },
     "execution_count": 9,
     "metadata": {},
     "output_type": "execute_result"
    }
   ],
   "source": [
    "df_pis_protein['genotype'].unique()"
   ]
  },
  {
   "cell_type": "code",
   "execution_count": 12,
   "id": "4891dbe5",
   "metadata": {},
   "outputs": [
    {
     "data": {
      "image/png": "[encoded data removed]",
      "text/plain": [
       "<Figure size 818.325x360 with 2 Axes>"
      ]
     },
     "metadata": {
      "needs_background": "light"
     },
     "output_type": "display_data"
    }
   ],
   "source": [
    "sns.set_context(\"talk\") \n",
    "\n",
    "\n",
    "g = sns.catplot(df_pis_protein[df_pis_protein['genotype']!='parental'], \n",
    "                x='passage', \n",
    "                y='avg_pi',\n",
    "                hue='genotype', \n",
    "                #row_order=['DCV'],\n",
    "                col='virus', \n",
    "                dodge=0.3,\n",
    "                palette=our_color_palette, \n",
    "                kind='point')\n",
    "\n",
    "# Add a horizontal line to each plot\n",
    "df_p0 = df_pis_protein[df_pis_protein['genotype']=='parental']\n",
    "for ax in g.axes.flat:\n",
    "    protein = ax.title.get_text().split(\"= \")[-1] \n",
    "    pi_p0 = df_p0[df_p0['virus']==protein]['avg_pi'].values[0]\n",
    "    ax.axhline(y=pi_p0, color='gray', linestyle='--')"
   ]
  },
  {
   "cell_type": "code",
   "execution_count": 50,
   "id": "91606dfb",
   "metadata": {},
   "outputs": [],
   "source": [
    "df_pi_summary = df_pis_protein[\n",
    "    ['virus', 'avg_pi', 'genotype', 'passage', 'rep']\n",
    "].groupby(by=['genotype', 'rep', 'virus']).mean().reset_index()"
   ]
  },
  {
   "cell_type": "code",
   "execution_count": 51,
   "id": "0180a58c",
   "metadata": {},
   "outputs": [
    {
     "data": {
      "text/html": [
       "<div>\n",
       "<style scoped>\n",
       "    .dataframe tbody tr th:only-of-type {\n",
       "        vertical-align: middle;\n",
       "    }\n",
       "\n",
       "    .dataframe tbody tr th {\n",
       "        vertical-align: top;\n",
       "    }\n",
       "\n",
       "    .dataframe thead th {\n",
       "        text-align: right;\n",
       "    }\n",
       "</style>\n",
       "<table border=\"1\" class=\"dataframe\">\n",
       "  <thead>\n",
       "    <tr style=\"text-align: right;\">\n",
       "      <th></th>\n",
       "      <th>genotype</th>\n",
       "      <th>rep</th>\n",
       "      <th>virus</th>\n",
       "      <th>avg_pi</th>\n",
       "      <th>passage</th>\n",
       "    </tr>\n",
       "  </thead>\n",
       "  <tbody>\n",
       "    <tr>\n",
       "      <th>0</th>\n",
       "      <td>I</td>\n",
       "      <td>a</td>\n",
       "      <td>CrPV</td>\n",
       "      <td>0.000501</td>\n",
       "      <td>4.2</td>\n",
       "    </tr>\n",
       "    <tr>\n",
       "      <th>1</th>\n",
       "      <td>I</td>\n",
       "      <td>a</td>\n",
       "      <td>DCV</td>\n",
       "      <td>0.000229</td>\n",
       "      <td>4.2</td>\n",
       "    </tr>\n",
       "    <tr>\n",
       "      <th>2</th>\n",
       "      <td>I</td>\n",
       "      <td>b</td>\n",
       "      <td>CrPV</td>\n",
       "      <td>0.000371</td>\n",
       "      <td>4.2</td>\n",
       "    </tr>\n",
       "    <tr>\n",
       "      <th>3</th>\n",
       "      <td>I</td>\n",
       "      <td>b</td>\n",
       "      <td>DCV</td>\n",
       "      <td>0.000078</td>\n",
       "      <td>4.2</td>\n",
       "    </tr>\n",
       "    <tr>\n",
       "      <th>4</th>\n",
       "      <td>I</td>\n",
       "      <td>c</td>\n",
       "      <td>CrPV</td>\n",
       "      <td>0.000571</td>\n",
       "      <td>4.2</td>\n",
       "    </tr>\n",
       "    <tr>\n",
       "      <th>5</th>\n",
       "      <td>I</td>\n",
       "      <td>c</td>\n",
       "      <td>DCV</td>\n",
       "      <td>0.000110</td>\n",
       "      <td>4.2</td>\n",
       "    </tr>\n",
       "    <tr>\n",
       "      <th>6</th>\n",
       "      <td>K</td>\n",
       "      <td>a</td>\n",
       "      <td>CrPV</td>\n",
       "      <td>0.000597</td>\n",
       "      <td>4.2</td>\n",
       "    </tr>\n",
       "    <tr>\n",
       "      <th>7</th>\n",
       "      <td>K</td>\n",
       "      <td>a</td>\n",
       "      <td>DCV</td>\n",
       "      <td>0.000092</td>\n",
       "      <td>4.2</td>\n",
       "    </tr>\n",
       "    <tr>\n",
       "      <th>8</th>\n",
       "      <td>K</td>\n",
       "      <td>b</td>\n",
       "      <td>CrPV</td>\n",
       "      <td>0.000672</td>\n",
       "      <td>4.2</td>\n",
       "    </tr>\n",
       "    <tr>\n",
       "      <th>9</th>\n",
       "      <td>K</td>\n",
       "      <td>b</td>\n",
       "      <td>DCV</td>\n",
       "      <td>0.000087</td>\n",
       "      <td>4.2</td>\n",
       "    </tr>\n",
       "    <tr>\n",
       "      <th>10</th>\n",
       "      <td>K</td>\n",
       "      <td>c</td>\n",
       "      <td>CrPV</td>\n",
       "      <td>0.000626</td>\n",
       "      <td>4.2</td>\n",
       "    </tr>\n",
       "    <tr>\n",
       "      <th>11</th>\n",
       "      <td>K</td>\n",
       "      <td>c</td>\n",
       "      <td>DCV</td>\n",
       "      <td>0.000083</td>\n",
       "      <td>4.2</td>\n",
       "    </tr>\n",
       "    <tr>\n",
       "      <th>12</th>\n",
       "      <td>W</td>\n",
       "      <td>a</td>\n",
       "      <td>CrPV</td>\n",
       "      <td>0.000644</td>\n",
       "      <td>4.2</td>\n",
       "    </tr>\n",
       "    <tr>\n",
       "      <th>13</th>\n",
       "      <td>W</td>\n",
       "      <td>a</td>\n",
       "      <td>DCV</td>\n",
       "      <td>0.000080</td>\n",
       "      <td>4.2</td>\n",
       "    </tr>\n",
       "    <tr>\n",
       "      <th>14</th>\n",
       "      <td>W</td>\n",
       "      <td>b</td>\n",
       "      <td>CrPV</td>\n",
       "      <td>0.000184</td>\n",
       "      <td>4.2</td>\n",
       "    </tr>\n",
       "    <tr>\n",
       "      <th>15</th>\n",
       "      <td>W</td>\n",
       "      <td>b</td>\n",
       "      <td>DCV</td>\n",
       "      <td>0.000072</td>\n",
       "      <td>4.2</td>\n",
       "    </tr>\n",
       "    <tr>\n",
       "      <th>16</th>\n",
       "      <td>W</td>\n",
       "      <td>c</td>\n",
       "      <td>CrPV</td>\n",
       "      <td>0.000240</td>\n",
       "      <td>4.2</td>\n",
       "    </tr>\n",
       "    <tr>\n",
       "      <th>17</th>\n",
       "      <td>W</td>\n",
       "      <td>c</td>\n",
       "      <td>DCV</td>\n",
       "      <td>0.000074</td>\n",
       "      <td>4.2</td>\n",
       "    </tr>\n",
       "    <tr>\n",
       "      <th>18</th>\n",
       "      <td>parental</td>\n",
       "      <td>p0</td>\n",
       "      <td>CrPV</td>\n",
       "      <td>0.000127</td>\n",
       "      <td>0.0</td>\n",
       "    </tr>\n",
       "    <tr>\n",
       "      <th>19</th>\n",
       "      <td>parental</td>\n",
       "      <td>p0</td>\n",
       "      <td>DCV</td>\n",
       "      <td>0.000068</td>\n",
       "      <td>0.0</td>\n",
       "    </tr>\n",
       "  </tbody>\n",
       "</table>\n",
       "</div>"
      ],
      "text/plain": [
       "    genotype rep virus    avg_pi  passage\n",
       "0          I   a  CrPV  0.000501      4.2\n",
       "1          I   a   DCV  0.000229      4.2\n",
       "2          I   b  CrPV  0.000371      4.2\n",
       "3          I   b   DCV  0.000078      4.2\n",
       "4          I   c  CrPV  0.000571      4.2\n",
       "5          I   c   DCV  0.000110      4.2\n",
       "6          K   a  CrPV  0.000597      4.2\n",
       "7          K   a   DCV  0.000092      4.2\n",
       "8          K   b  CrPV  0.000672      4.2\n",
       "9          K   b   DCV  0.000087      4.2\n",
       "10         K   c  CrPV  0.000626      4.2\n",
       "11         K   c   DCV  0.000083      4.2\n",
       "12         W   a  CrPV  0.000644      4.2\n",
       "13         W   a   DCV  0.000080      4.2\n",
       "14         W   b  CrPV  0.000184      4.2\n",
       "15         W   b   DCV  0.000072      4.2\n",
       "16         W   c  CrPV  0.000240      4.2\n",
       "17         W   c   DCV  0.000074      4.2\n",
       "18  parental  p0  CrPV  0.000127      0.0\n",
       "19  parental  p0   DCV  0.000068      0.0"
      ]
     },
     "execution_count": 51,
     "metadata": {},
     "output_type": "execute_result"
    }
   ],
   "source": [
    "df_pi_summary"
   ]
  },
  {
   "cell_type": "code",
   "execution_count": 55,
   "id": "deede4bd",
   "metadata": {},
   "outputs": [
    {
     "name": "stderr",
     "output_type": "stream",
     "text": [
      "/var/folders/dw/8dl4p6h53cgcmk6cf_09v5f40000gr/T/ipykernel_47754/3849278090.py:5: FutureWarning: \n",
      "\n",
      "The `errwidth` parameter is deprecated. And will be removed in v0.15.0. Pass `err_kws={'linewidth': 1.1}` instead.\n",
      "\n",
      "  g = sns.catplot(df_pi_summary[df_pi_summary['genotype']!='parental'],\n"
     ]
    },
    {
     "data": {
      "image/png": "[encoded data removed]",
      "text/plain": [
       "<Figure size 447.45x360 with 1 Axes>"
      ]
     },
     "metadata": {},
     "output_type": "display_data"
    }
   ],
   "source": [
    "sns.set_context(\"talk\") \n",
    "sns.set_style('white')\n",
    "\n",
    "\n",
    "g = sns.catplot(df_pi_summary[df_pi_summary['genotype']!='parental'], \n",
    "                y='avg_pi',\n",
    "                hue='genotype', \n",
    "                x='virus', \n",
    "                palette=our_color_palette, \n",
    "                errorbar=\"se\",\n",
    "                linestyle='',\n",
    "                errwidth=1.1, \n",
    "                dodge=0.2,\n",
    "                capsize=0.1,\n",
    "                kind='point')\n"
   ]
  },
  {
   "cell_type": "code",
   "execution_count": 57,
   "id": "30ee1d4f",
   "metadata": {},
   "outputs": [],
   "source": [
    "df_pi_summary = df_pi_summary[df_pi_summary['genotype']!='parental']"
   ]
  },
  {
   "cell_type": "code",
   "execution_count": 59,
   "id": "4b9af036",
   "metadata": {},
   "outputs": [
    {
     "name": "stderr",
     "output_type": "stream",
     "text": [
      "/var/folders/dw/8dl4p6h53cgcmk6cf_09v5f40000gr/T/ipykernel_47754/1974102335.py:1: SettingWithCopyWarning: \n",
      "A value is trying to be set on a copy of a slice from a DataFrame.\n",
      "Try using .loc[row_indexer,col_indexer] = value instead\n",
      "\n",
      "See the caveats in the documentation: https://pandas.pydata.org/pandas-docs/stable/user_guide/indexing.html#returning-a-view-versus-a-copy\n",
      "  df_pi_summary['rep'] = df_pi_summary['virus']+df_pi_summary['genotype']+df_pi_summary['rep']\n"
     ]
    }
   ],
   "source": [
    "df_pi_summary['rep'] = df_pi_summary['virus']+df_pi_summary['genotype']+df_pi_summary['rep']"
   ]
  },
  {
   "cell_type": "code",
   "execution_count": 83,
   "id": "6f991289",
   "metadata": {},
   "outputs": [
    {
     "name": "stdout",
     "output_type": "stream",
     "text": [
      "The rpy2.ipython extension is already loaded. To reload it, use:\n",
      "  %reload_ext rpy2.ipython\n"
     ]
    }
   ],
   "source": [
    "%load_ext rpy2.ipython"
   ]
  },
  {
   "cell_type": "code",
   "execution_count": 84,
   "id": "69fc1950",
   "metadata": {},
   "outputs": [
    {
     "name": "stdout",
     "output_type": "stream",
     "text": [
      "[1] \"Settings:  unique SS \"\n",
      "Component 1 :\n",
      "                 Df R Sum Sq R Mean Sq Iter Pr(Prob)    \n",
      "virus1            1  11.0878   11.0878 5000  < 2e-16 ***\n",
      "genotype1         2   0.8426    0.4213  968  0.09607 .  \n",
      "virus1:genotype1  2   0.3792    0.1896  608  0.24671    \n",
      "Residuals        12   1.5917    0.1326                  \n",
      "---\n",
      "Signif. codes:  0 ‘***’ 0.001 ‘**’ 0.01 ‘*’ 0.05 ‘.’ 0.1 ‘ ’ 1\n",
      "\n"
     ]
    },
    {
     "name": "stderr",
     "output_type": "stream",
     "text": [
      "/Users/lfuhrmann/Library/Python/3.9/lib/python/site-packages/rpy2/robjects/pandas2ri.py:54: FutureWarning: iteritems is deprecated and will be removed in a future version. Use .items instead.\n",
      "  for name, values in obj.iteritems():\n"
     ]
    }
   ],
   "source": [
    "%%R -i df_pi_summary \n",
    "\n",
    "df_pi_summary$pi_log = log(df_pi_summary$avg_pi)\n",
    "\n",
    "\n",
    "# since normality in our data is not met, even with transformation\n",
    "# we use the permutation-based ANOVA which does not require normality of residuals \n",
    "\n",
    "library(lmPerm)\n",
    "model <- aovp(pi_log ~ virus * genotype, data = df_pi_summary)\n",
    "summary(model)"
   ]
  },
  {
   "cell_type": "code",
   "execution_count": 85,
   "id": "4411899d",
   "metadata": {},
   "outputs": [
    {
     "data": {
      "image/png": "[encoded data removed]"
     },
     "metadata": {},
     "output_type": "display_data"
    }
   ],
   "source": [
    "%%R \n",
    "\n",
    "# Basic Q-Q plot\n",
    "qqnorm(residuals(model))\n",
    "qqline(residuals(model))"
   ]
  },
  {
   "cell_type": "code",
   "execution_count": 79,
   "id": "454200a6",
   "metadata": {},
   "outputs": [
    {
     "name": "stdout",
     "output_type": "stream",
     "text": [
      "               Df Sum Sq Mean Sq F value   Pr(>F)    \n",
      "virus           1 11.088  11.088  83.590 9.35e-07 ***\n",
      "genotype        2  0.843   0.421   3.176   0.0782 .  \n",
      "virus:genotype  2  0.379   0.190   1.429   0.2774    \n",
      "Residuals      12  1.592   0.133                     \n",
      "---\n",
      "Signif. codes:  0 ‘***’ 0.001 ‘**’ 0.01 ‘*’ 0.05 ‘.’ 0.1 ‘ ’ 1\n"
     ]
    },
    {
     "name": "stderr",
     "output_type": "stream",
     "text": [
      "/Users/lfuhrmann/Library/Python/3.9/lib/python/site-packages/rpy2/robjects/pandas2ri.py:54: FutureWarning: iteritems is deprecated and will be removed in a future version. Use .items instead.\n",
      "  for name, values in obj.iteritems():\n"
     ]
    }
   ],
   "source": [
    "%%R -i df_pi_summary \n",
    "\n",
    "df_pi_summary$pi_log = log(df_pi_summary$avg_pi)\n",
    "\n",
    "library(rstatix)\n",
    "\n",
    "\n",
    "# Assuming your data is in a dataframe called 'df'\n",
    "model <- aov(pi_log ~ virus * genotype, data = df_pi_summary)\n",
    "summary(model)\n"
   ]
  },
  {
   "cell_type": "code",
   "execution_count": 80,
   "id": "f221867f",
   "metadata": {},
   "outputs": [
    {
     "name": "stdout",
     "output_type": "stream",
     "text": [
      "  Tukey multiple comparisons of means\n",
      "    95% family-wise confidence level\n",
      "\n",
      "Fit: aov(formula = pi_log ~ virus * genotype, data = df_pi_summary)\n",
      "\n",
      "$virus\n",
      "            diff       lwr       upr p adj\n",
      "DCV-CrPV -1.5697 -1.943776 -1.195625 9e-07\n",
      "\n"
     ]
    }
   ],
   "source": [
    "%%R \n",
    "\n",
    "# Tukey's HSD test\n",
    "TukeyHSD(model, which='virus')\n"
   ]
  },
  {
   "cell_type": "code",
   "execution_count": 81,
   "id": "f5cc3bf5",
   "metadata": {},
   "outputs": [
    {
     "name": "stdout",
     "output_type": "stream",
     "text": [
      "\n",
      "\tShapiro-Wilk normality test\n",
      "\n",
      "data:  residuals(model)\n",
      "W = 0.88819, p-value = 0.03594\n",
      "\n"
     ]
    }
   ],
   "source": [
    "%%R \n",
    "shapiro.test(residuals(model))\n"
   ]
  },
  {
   "cell_type": "code",
   "execution_count": 82,
   "id": "132a2c5e",
   "metadata": {},
   "outputs": [
    {
     "name": "stdout",
     "output_type": "stream",
     "text": [
      "Levene's Test for Homogeneity of Variance (center = median)\n",
      "      Df F value Pr(>F)\n",
      "group  5    1.02 0.4481\n",
      "      12               \n"
     ]
    }
   ],
   "source": [
    "%%R \n",
    "library(car)\n",
    "leveneTest(avg_pi ~ virus * genotype, data = df_pi_summary)\n"
   ]
  },
  {
   "cell_type": "code",
   "execution_count": null,
   "id": "6c66a436",
   "metadata": {},
   "outputs": [],
   "source": [
    "\n"
   ]
  }
 ],
 "metadata": {
  "kernelspec": {
   "display_name": "Python 3 (ipykernel)",
   "language": "python",
   "name": "python3"
  },
  "language_info": {
   "codemirror_mode": {
    "name": "ipython",
    "version": 3
   },
   "file_extension": ".py",
   "mimetype": "text/x-python",
   "name": "python",
   "nbconvert_exporter": "python",
   "pygments_lexer": "ipython3",
   "version": "3.9.0"
  }
 },
 "nbformat": 4,
 "nbformat_minor": 5
}
